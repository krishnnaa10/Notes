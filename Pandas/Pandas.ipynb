{
 "cells": [
  {
   "cell_type": "markdown",
   "id": "8249509d-011e-4c80-a816-52473146344e",
   "metadata": {},
   "source": [
    "# Pandas"
   ]
  },
  {
   "cell_type": "markdown",
   "id": "519bf18c-071e-489a-8eec-c46d5c104b6a",
   "metadata": {},
   "source": [
    "Pandas is an open source data analysis library written in Python. It is particularly well-suited for working with tabular data, such as Excel spreadsheets or CSV files.\n",
    "\n",
    "Pandas has two types of data structures : \n",
    "+ ***Series***\n",
    "+ ***Dataframe***"
   ]
  },
  {
   "cell_type": "markdown",
   "id": "617ad604-2129-4f76-ab09-f9f0a80c903e",
   "metadata": {},
   "source": [
    "**Series** - It is a one dimensional array with indexes, similar to a column in spreadsheet or SQL table.\n",
    "\n",
    "**Dataframe** - It ia a 2-dimensional labeled data structure in pandas, similar to a spreadsheet or SQL table. You can think of a Dataframe as a collection of Series objects, where each series represents a column."
   ]
  },
  {
   "cell_type": "markdown",
   "id": "42cc1f55-e755-4b81-9366-27247e19591d",
   "metadata": {},
   "source": [
    "### Importing Pandas"
   ]
  },
  {
   "cell_type": "code",
   "execution_count": 5,
   "id": "10bae78d-d518-480a-9ac0-5d0026e172ba",
   "metadata": {},
   "outputs": [],
   "source": [
    "import numpy as np\n",
    "import pandas as pd"
   ]
  },
  {
   "cell_type": "markdown",
   "id": "ecbe5ebd-f4cb-44b8-8d66-e9d57d34a13a",
   "metadata": {},
   "source": [
    "### Creating a Dataframe"
   ]
  },
  {
   "cell_type": "code",
   "execution_count": 7,
   "id": "a3a572d8-70ab-4de5-b224-15ea8ca93308",
   "metadata": {},
   "outputs": [],
   "source": [
    "dict1 = {\n",
    "    \"Name\" : ['Krishna', 'Omi', 'Mukul', 'Aditi', 'Manish', 'Aditya'],\n",
    "    \"Marks\" : [81, 99, 95, 85, 70, 80],\n",
    "    \"Age\" : [24, 21, 24, 21, 23, 25],\n",
    "    \"City\" : ['Patna', 'Siwan', 'Varanasi', 'Ranchi', 'Jamshedpur', 'Bhopal']\n",
    "}"
   ]
  },
  {
   "cell_type": "code",
   "execution_count": 8,
   "id": "6780bb87-32fe-423e-886d-7147dd9a4454",
   "metadata": {},
   "outputs": [],
   "source": [
    "df = pd.DataFrame(dict1)"
   ]
  },
  {
   "cell_type": "code",
   "execution_count": 9,
   "id": "6b86628e-cc95-41c4-8e9f-df6c6ae4dc44",
   "metadata": {},
   "outputs": [
    {
     "data": {
      "text/html": [
       "<div>\n",
       "<style scoped>\n",
       "    .dataframe tbody tr th:only-of-type {\n",
       "        vertical-align: middle;\n",
       "    }\n",
       "\n",
       "    .dataframe tbody tr th {\n",
       "        vertical-align: top;\n",
       "    }\n",
       "\n",
       "    .dataframe thead th {\n",
       "        text-align: right;\n",
       "    }\n",
       "</style>\n",
       "<table border=\"1\" class=\"dataframe\">\n",
       "  <thead>\n",
       "    <tr style=\"text-align: right;\">\n",
       "      <th></th>\n",
       "      <th>Name</th>\n",
       "      <th>Marks</th>\n",
       "      <th>Age</th>\n",
       "      <th>City</th>\n",
       "    </tr>\n",
       "  </thead>\n",
       "  <tbody>\n",
       "    <tr>\n",
       "      <th>0</th>\n",
       "      <td>Krishna</td>\n",
       "      <td>81</td>\n",
       "      <td>24</td>\n",
       "      <td>Patna</td>\n",
       "    </tr>\n",
       "    <tr>\n",
       "      <th>1</th>\n",
       "      <td>Omi</td>\n",
       "      <td>99</td>\n",
       "      <td>21</td>\n",
       "      <td>Siwan</td>\n",
       "    </tr>\n",
       "    <tr>\n",
       "      <th>2</th>\n",
       "      <td>Mukul</td>\n",
       "      <td>95</td>\n",
       "      <td>24</td>\n",
       "      <td>Varanasi</td>\n",
       "    </tr>\n",
       "    <tr>\n",
       "      <th>3</th>\n",
       "      <td>Aditi</td>\n",
       "      <td>85</td>\n",
       "      <td>21</td>\n",
       "      <td>Ranchi</td>\n",
       "    </tr>\n",
       "    <tr>\n",
       "      <th>4</th>\n",
       "      <td>Manish</td>\n",
       "      <td>70</td>\n",
       "      <td>23</td>\n",
       "      <td>Jamshedpur</td>\n",
       "    </tr>\n",
       "    <tr>\n",
       "      <th>5</th>\n",
       "      <td>Aditya</td>\n",
       "      <td>80</td>\n",
       "      <td>25</td>\n",
       "      <td>Bhopal</td>\n",
       "    </tr>\n",
       "  </tbody>\n",
       "</table>\n",
       "</div>"
      ],
      "text/plain": [
       "      Name  Marks  Age        City\n",
       "0  Krishna     81   24       Patna\n",
       "1      Omi     99   21       Siwan\n",
       "2    Mukul     95   24    Varanasi\n",
       "3    Aditi     85   21      Ranchi\n",
       "4   Manish     70   23  Jamshedpur\n",
       "5   Aditya     80   25      Bhopal"
      ]
     },
     "execution_count": 9,
     "metadata": {},
     "output_type": "execute_result"
    }
   ],
   "source": [
    "df"
   ]
  },
  {
   "cell_type": "markdown",
   "id": "87b887dd-487c-465f-8f57-8aaa293fac77",
   "metadata": {},
   "source": [
    "***type() : When we want to know what kind of data a Pandas object (like a Series or Dataframe) is holding, we can use the type() function.***"
   ]
  },
  {
   "cell_type": "code",
   "execution_count": 11,
   "id": "0dc935ea-b233-4312-9788-6b34d39c48ec",
   "metadata": {},
   "outputs": [
    {
     "data": {
      "text/plain": [
       "pandas.core.frame.DataFrame"
      ]
     },
     "execution_count": 11,
     "metadata": {},
     "output_type": "execute_result"
    }
   ],
   "source": [
    "type(df)"
   ]
  },
  {
   "cell_type": "code",
   "execution_count": 12,
   "id": "465349d9-0069-4e5e-bc1f-0a57d1f102cd",
   "metadata": {},
   "outputs": [
    {
     "data": {
      "text/plain": [
       "0    Krishna\n",
       "1        Omi\n",
       "2      Mukul\n",
       "3      Aditi\n",
       "4     Manish\n",
       "5     Aditya\n",
       "Name: Name, dtype: object"
      ]
     },
     "execution_count": 12,
     "metadata": {},
     "output_type": "execute_result"
    }
   ],
   "source": [
    "df['Name']"
   ]
  },
  {
   "cell_type": "code",
   "execution_count": 13,
   "id": "17f47895-12de-48e4-9972-ab694b3217c3",
   "metadata": {},
   "outputs": [
    {
     "data": {
      "text/plain": [
       "pandas.core.series.Series"
      ]
     },
     "execution_count": 13,
     "metadata": {},
     "output_type": "execute_result"
    }
   ],
   "source": [
    "type(df['Name'])"
   ]
  },
  {
   "cell_type": "markdown",
   "id": "53fc8856-d7e6-4607-be86-00674654cd39",
   "metadata": {},
   "source": [
    "### Save the Dataframe as a CSV file"
   ]
  },
  {
   "cell_type": "markdown",
   "id": "ac5bf335-0522-4438-a4f7-b03382f43259",
   "metadata": {},
   "source": [
    "***to_csv() : It is a method used to save a Dataframe as a CSV file.***"
   ]
  },
  {
   "cell_type": "code",
   "execution_count": 16,
   "id": "99a3f048-2191-4d9b-bfac-7846b906e81e",
   "metadata": {},
   "outputs": [],
   "source": [
    "df.to_csv('friends.csv')"
   ]
  },
  {
   "cell_type": "code",
   "execution_count": 17,
   "id": "49ecf0b4-4fa5-4f7e-87fe-468ea1318d36",
   "metadata": {},
   "outputs": [],
   "source": [
    "df.to_csv('friends_index_false.csv', index=False)"
   ]
  },
  {
   "cell_type": "markdown",
   "id": "c46d2942-fc87-4a23-a84d-baeb6b3c7e06",
   "metadata": {},
   "source": [
    "### Assigns a new index to the Dataframe"
   ]
  },
  {
   "cell_type": "markdown",
   "id": "7fff8261-acde-4fea-9ce2-f8ad70228ab6",
   "metadata": {},
   "source": [
    "***Index : It is like a list of labels that helps you to find specific rows in a Dataframe.***"
   ]
  },
  {
   "cell_type": "code",
   "execution_count": 20,
   "id": "70f081d7-2472-4532-bf22-b49c225ca2f2",
   "metadata": {},
   "outputs": [
    {
     "data": {
      "text/plain": [
       "RangeIndex(start=0, stop=6, step=1)"
      ]
     },
     "execution_count": 20,
     "metadata": {},
     "output_type": "execute_result"
    }
   ],
   "source": [
    "df.index"
   ]
  },
  {
   "cell_type": "code",
   "execution_count": 21,
   "id": "002c676c-022d-4e9c-a36f-c70cddf35aa0",
   "metadata": {},
   "outputs": [],
   "source": [
    "df.index = ['A', 'B', 'C', 'D', 'E', 'F']"
   ]
  },
  {
   "cell_type": "code",
   "execution_count": 22,
   "id": "61e4ed03-fb61-43fc-b113-a63d4fbc599e",
   "metadata": {},
   "outputs": [
    {
     "data": {
      "text/html": [
       "<div>\n",
       "<style scoped>\n",
       "    .dataframe tbody tr th:only-of-type {\n",
       "        vertical-align: middle;\n",
       "    }\n",
       "\n",
       "    .dataframe tbody tr th {\n",
       "        vertical-align: top;\n",
       "    }\n",
       "\n",
       "    .dataframe thead th {\n",
       "        text-align: right;\n",
       "    }\n",
       "</style>\n",
       "<table border=\"1\" class=\"dataframe\">\n",
       "  <thead>\n",
       "    <tr style=\"text-align: right;\">\n",
       "      <th></th>\n",
       "      <th>Name</th>\n",
       "      <th>Marks</th>\n",
       "      <th>Age</th>\n",
       "      <th>City</th>\n",
       "    </tr>\n",
       "  </thead>\n",
       "  <tbody>\n",
       "    <tr>\n",
       "      <th>A</th>\n",
       "      <td>Krishna</td>\n",
       "      <td>81</td>\n",
       "      <td>24</td>\n",
       "      <td>Patna</td>\n",
       "    </tr>\n",
       "    <tr>\n",
       "      <th>B</th>\n",
       "      <td>Omi</td>\n",
       "      <td>99</td>\n",
       "      <td>21</td>\n",
       "      <td>Siwan</td>\n",
       "    </tr>\n",
       "    <tr>\n",
       "      <th>C</th>\n",
       "      <td>Mukul</td>\n",
       "      <td>95</td>\n",
       "      <td>24</td>\n",
       "      <td>Varanasi</td>\n",
       "    </tr>\n",
       "    <tr>\n",
       "      <th>D</th>\n",
       "      <td>Aditi</td>\n",
       "      <td>85</td>\n",
       "      <td>21</td>\n",
       "      <td>Ranchi</td>\n",
       "    </tr>\n",
       "    <tr>\n",
       "      <th>E</th>\n",
       "      <td>Manish</td>\n",
       "      <td>70</td>\n",
       "      <td>23</td>\n",
       "      <td>Jamshedpur</td>\n",
       "    </tr>\n",
       "    <tr>\n",
       "      <th>F</th>\n",
       "      <td>Aditya</td>\n",
       "      <td>80</td>\n",
       "      <td>25</td>\n",
       "      <td>Bhopal</td>\n",
       "    </tr>\n",
       "  </tbody>\n",
       "</table>\n",
       "</div>"
      ],
      "text/plain": [
       "      Name  Marks  Age        City\n",
       "A  Krishna     81   24       Patna\n",
       "B      Omi     99   21       Siwan\n",
       "C    Mukul     95   24    Varanasi\n",
       "D    Aditi     85   21      Ranchi\n",
       "E   Manish     70   23  Jamshedpur\n",
       "F   Aditya     80   25      Bhopal"
      ]
     },
     "execution_count": 22,
     "metadata": {},
     "output_type": "execute_result"
    }
   ],
   "source": [
    "df"
   ]
  },
  {
   "cell_type": "code",
   "execution_count": 23,
   "id": "9086ea6c-8d62-4af3-83d6-a22acb018d79",
   "metadata": {},
   "outputs": [
    {
     "data": {
      "text/plain": [
       "Index(['A', 'B', 'C', 'D', 'E', 'F'], dtype='object')"
      ]
     },
     "execution_count": 23,
     "metadata": {},
     "output_type": "execute_result"
    }
   ],
   "source": [
    "df.index"
   ]
  },
  {
   "cell_type": "markdown",
   "id": "b6a1effd-b0b2-4c40-89e2-abf6f35547c4",
   "metadata": {},
   "source": [
    "***column : A column is a single vertical series of data in a Dataframe.***"
   ]
  },
  {
   "cell_type": "code",
   "execution_count": 25,
   "id": "b41c2379-1984-44d5-b269-28febb68f318",
   "metadata": {},
   "outputs": [
    {
     "data": {
      "text/plain": [
       "Index(['Name', 'Marks', 'Age', 'City'], dtype='object')"
      ]
     },
     "execution_count": 25,
     "metadata": {},
     "output_type": "execute_result"
    }
   ],
   "source": [
    "df.columns"
   ]
  },
  {
   "cell_type": "markdown",
   "id": "031c33da-ea13-477c-9855-85d7399b5994",
   "metadata": {},
   "source": [
    "***head() : It is used to display the first few rows of a Dataframe.***"
   ]
  },
  {
   "cell_type": "code",
   "execution_count": 27,
   "id": "b4d84a41-e67b-4883-9f43-e48a8d67d23f",
   "metadata": {},
   "outputs": [
    {
     "data": {
      "text/html": [
       "<div>\n",
       "<style scoped>\n",
       "    .dataframe tbody tr th:only-of-type {\n",
       "        vertical-align: middle;\n",
       "    }\n",
       "\n",
       "    .dataframe tbody tr th {\n",
       "        vertical-align: top;\n",
       "    }\n",
       "\n",
       "    .dataframe thead th {\n",
       "        text-align: right;\n",
       "    }\n",
       "</style>\n",
       "<table border=\"1\" class=\"dataframe\">\n",
       "  <thead>\n",
       "    <tr style=\"text-align: right;\">\n",
       "      <th></th>\n",
       "      <th>Name</th>\n",
       "      <th>Marks</th>\n",
       "      <th>Age</th>\n",
       "      <th>City</th>\n",
       "    </tr>\n",
       "  </thead>\n",
       "  <tbody>\n",
       "    <tr>\n",
       "      <th>A</th>\n",
       "      <td>Krishna</td>\n",
       "      <td>81</td>\n",
       "      <td>24</td>\n",
       "      <td>Patna</td>\n",
       "    </tr>\n",
       "    <tr>\n",
       "      <th>B</th>\n",
       "      <td>Omi</td>\n",
       "      <td>99</td>\n",
       "      <td>21</td>\n",
       "      <td>Siwan</td>\n",
       "    </tr>\n",
       "    <tr>\n",
       "      <th>C</th>\n",
       "      <td>Mukul</td>\n",
       "      <td>95</td>\n",
       "      <td>24</td>\n",
       "      <td>Varanasi</td>\n",
       "    </tr>\n",
       "    <tr>\n",
       "      <th>D</th>\n",
       "      <td>Aditi</td>\n",
       "      <td>85</td>\n",
       "      <td>21</td>\n",
       "      <td>Ranchi</td>\n",
       "    </tr>\n",
       "    <tr>\n",
       "      <th>E</th>\n",
       "      <td>Manish</td>\n",
       "      <td>70</td>\n",
       "      <td>23</td>\n",
       "      <td>Jamshedpur</td>\n",
       "    </tr>\n",
       "  </tbody>\n",
       "</table>\n",
       "</div>"
      ],
      "text/plain": [
       "      Name  Marks  Age        City\n",
       "A  Krishna     81   24       Patna\n",
       "B      Omi     99   21       Siwan\n",
       "C    Mukul     95   24    Varanasi\n",
       "D    Aditi     85   21      Ranchi\n",
       "E   Manish     70   23  Jamshedpur"
      ]
     },
     "execution_count": 27,
     "metadata": {},
     "output_type": "execute_result"
    }
   ],
   "source": [
    "df.head()"
   ]
  },
  {
   "cell_type": "code",
   "execution_count": 28,
   "id": "b1d6d230-da4c-4f38-a32a-af1c6ba4b76f",
   "metadata": {},
   "outputs": [
    {
     "data": {
      "text/html": [
       "<div>\n",
       "<style scoped>\n",
       "    .dataframe tbody tr th:only-of-type {\n",
       "        vertical-align: middle;\n",
       "    }\n",
       "\n",
       "    .dataframe tbody tr th {\n",
       "        vertical-align: top;\n",
       "    }\n",
       "\n",
       "    .dataframe thead th {\n",
       "        text-align: right;\n",
       "    }\n",
       "</style>\n",
       "<table border=\"1\" class=\"dataframe\">\n",
       "  <thead>\n",
       "    <tr style=\"text-align: right;\">\n",
       "      <th></th>\n",
       "      <th>Name</th>\n",
       "      <th>Marks</th>\n",
       "      <th>Age</th>\n",
       "      <th>City</th>\n",
       "    </tr>\n",
       "  </thead>\n",
       "  <tbody>\n",
       "    <tr>\n",
       "      <th>A</th>\n",
       "      <td>Krishna</td>\n",
       "      <td>81</td>\n",
       "      <td>24</td>\n",
       "      <td>Patna</td>\n",
       "    </tr>\n",
       "    <tr>\n",
       "      <th>B</th>\n",
       "      <td>Omi</td>\n",
       "      <td>99</td>\n",
       "      <td>21</td>\n",
       "      <td>Siwan</td>\n",
       "    </tr>\n",
       "  </tbody>\n",
       "</table>\n",
       "</div>"
      ],
      "text/plain": [
       "      Name  Marks  Age   City\n",
       "A  Krishna     81   24  Patna\n",
       "B      Omi     99   21  Siwan"
      ]
     },
     "execution_count": 28,
     "metadata": {},
     "output_type": "execute_result"
    }
   ],
   "source": [
    "df.head(2)"
   ]
  },
  {
   "cell_type": "markdown",
   "id": "594d4086-d0e7-4bb7-83b7-0041042bb846",
   "metadata": {},
   "source": [
    "***tail() : It is used to display the last few rows of a Dataframe.***"
   ]
  },
  {
   "cell_type": "code",
   "execution_count": 30,
   "id": "3c70d17b-94d7-4359-bde3-28c0bb19a43c",
   "metadata": {},
   "outputs": [
    {
     "data": {
      "text/html": [
       "<div>\n",
       "<style scoped>\n",
       "    .dataframe tbody tr th:only-of-type {\n",
       "        vertical-align: middle;\n",
       "    }\n",
       "\n",
       "    .dataframe tbody tr th {\n",
       "        vertical-align: top;\n",
       "    }\n",
       "\n",
       "    .dataframe thead th {\n",
       "        text-align: right;\n",
       "    }\n",
       "</style>\n",
       "<table border=\"1\" class=\"dataframe\">\n",
       "  <thead>\n",
       "    <tr style=\"text-align: right;\">\n",
       "      <th></th>\n",
       "      <th>Name</th>\n",
       "      <th>Marks</th>\n",
       "      <th>Age</th>\n",
       "      <th>City</th>\n",
       "    </tr>\n",
       "  </thead>\n",
       "  <tbody>\n",
       "    <tr>\n",
       "      <th>B</th>\n",
       "      <td>Omi</td>\n",
       "      <td>99</td>\n",
       "      <td>21</td>\n",
       "      <td>Siwan</td>\n",
       "    </tr>\n",
       "    <tr>\n",
       "      <th>C</th>\n",
       "      <td>Mukul</td>\n",
       "      <td>95</td>\n",
       "      <td>24</td>\n",
       "      <td>Varanasi</td>\n",
       "    </tr>\n",
       "    <tr>\n",
       "      <th>D</th>\n",
       "      <td>Aditi</td>\n",
       "      <td>85</td>\n",
       "      <td>21</td>\n",
       "      <td>Ranchi</td>\n",
       "    </tr>\n",
       "    <tr>\n",
       "      <th>E</th>\n",
       "      <td>Manish</td>\n",
       "      <td>70</td>\n",
       "      <td>23</td>\n",
       "      <td>Jamshedpur</td>\n",
       "    </tr>\n",
       "    <tr>\n",
       "      <th>F</th>\n",
       "      <td>Aditya</td>\n",
       "      <td>80</td>\n",
       "      <td>25</td>\n",
       "      <td>Bhopal</td>\n",
       "    </tr>\n",
       "  </tbody>\n",
       "</table>\n",
       "</div>"
      ],
      "text/plain": [
       "     Name  Marks  Age        City\n",
       "B     Omi     99   21       Siwan\n",
       "C   Mukul     95   24    Varanasi\n",
       "D   Aditi     85   21      Ranchi\n",
       "E  Manish     70   23  Jamshedpur\n",
       "F  Aditya     80   25      Bhopal"
      ]
     },
     "execution_count": 30,
     "metadata": {},
     "output_type": "execute_result"
    }
   ],
   "source": [
    "df.tail()"
   ]
  },
  {
   "cell_type": "code",
   "execution_count": 31,
   "id": "ddcfc7a7-bd79-486a-94cc-53efe87460c2",
   "metadata": {},
   "outputs": [
    {
     "data": {
      "text/html": [
       "<div>\n",
       "<style scoped>\n",
       "    .dataframe tbody tr th:only-of-type {\n",
       "        vertical-align: middle;\n",
       "    }\n",
       "\n",
       "    .dataframe tbody tr th {\n",
       "        vertical-align: top;\n",
       "    }\n",
       "\n",
       "    .dataframe thead th {\n",
       "        text-align: right;\n",
       "    }\n",
       "</style>\n",
       "<table border=\"1\" class=\"dataframe\">\n",
       "  <thead>\n",
       "    <tr style=\"text-align: right;\">\n",
       "      <th></th>\n",
       "      <th>Name</th>\n",
       "      <th>Marks</th>\n",
       "      <th>Age</th>\n",
       "      <th>City</th>\n",
       "    </tr>\n",
       "  </thead>\n",
       "  <tbody>\n",
       "    <tr>\n",
       "      <th>E</th>\n",
       "      <td>Manish</td>\n",
       "      <td>70</td>\n",
       "      <td>23</td>\n",
       "      <td>Jamshedpur</td>\n",
       "    </tr>\n",
       "    <tr>\n",
       "      <th>F</th>\n",
       "      <td>Aditya</td>\n",
       "      <td>80</td>\n",
       "      <td>25</td>\n",
       "      <td>Bhopal</td>\n",
       "    </tr>\n",
       "  </tbody>\n",
       "</table>\n",
       "</div>"
      ],
      "text/plain": [
       "     Name  Marks  Age        City\n",
       "E  Manish     70   23  Jamshedpur\n",
       "F  Aditya     80   25      Bhopal"
      ]
     },
     "execution_count": 31,
     "metadata": {},
     "output_type": "execute_result"
    }
   ],
   "source": [
    "df.tail(2)"
   ]
  },
  {
   "cell_type": "markdown",
   "id": "902f61cf-0c4b-49ac-b450-e9f3a82b6f53",
   "metadata": {},
   "source": [
    "***shape : This will return a tuple representing the number of rows and columns in a Dataframe.***"
   ]
  },
  {
   "cell_type": "code",
   "execution_count": 33,
   "id": "046cfe84-a2fa-4517-8225-ea5b2dcc4e57",
   "metadata": {},
   "outputs": [
    {
     "data": {
      "text/plain": [
       "(6, 4)"
      ]
     },
     "execution_count": 33,
     "metadata": {},
     "output_type": "execute_result"
    }
   ],
   "source": [
    "df.shape"
   ]
  },
  {
   "cell_type": "markdown",
   "id": "c950ffe3-a939-4691-a472-46c2c054bf91",
   "metadata": {},
   "source": [
    "***describe() : It is a method used to generate summary statistics of a Dataframe. It provides a quick overview of data, including count, mean, standard deviation, minimun, 25th percentile, 50th percentile (median), and maximum values.***"
   ]
  },
  {
   "cell_type": "code",
   "execution_count": 35,
   "id": "60b45d3a-0488-4379-8051-7aeeacb3c939",
   "metadata": {},
   "outputs": [
    {
     "data": {
      "text/html": [
       "<div>\n",
       "<style scoped>\n",
       "    .dataframe tbody tr th:only-of-type {\n",
       "        vertical-align: middle;\n",
       "    }\n",
       "\n",
       "    .dataframe tbody tr th {\n",
       "        vertical-align: top;\n",
       "    }\n",
       "\n",
       "    .dataframe thead th {\n",
       "        text-align: right;\n",
       "    }\n",
       "</style>\n",
       "<table border=\"1\" class=\"dataframe\">\n",
       "  <thead>\n",
       "    <tr style=\"text-align: right;\">\n",
       "      <th></th>\n",
       "      <th>Marks</th>\n",
       "      <th>Age</th>\n",
       "    </tr>\n",
       "  </thead>\n",
       "  <tbody>\n",
       "    <tr>\n",
       "      <th>count</th>\n",
       "      <td>6.000000</td>\n",
       "      <td>6.00000</td>\n",
       "    </tr>\n",
       "    <tr>\n",
       "      <th>mean</th>\n",
       "      <td>85.000000</td>\n",
       "      <td>23.00000</td>\n",
       "    </tr>\n",
       "    <tr>\n",
       "      <th>std</th>\n",
       "      <td>10.601887</td>\n",
       "      <td>1.67332</td>\n",
       "    </tr>\n",
       "    <tr>\n",
       "      <th>min</th>\n",
       "      <td>70.000000</td>\n",
       "      <td>21.00000</td>\n",
       "    </tr>\n",
       "    <tr>\n",
       "      <th>25%</th>\n",
       "      <td>80.250000</td>\n",
       "      <td>21.50000</td>\n",
       "    </tr>\n",
       "    <tr>\n",
       "      <th>50%</th>\n",
       "      <td>83.000000</td>\n",
       "      <td>23.50000</td>\n",
       "    </tr>\n",
       "    <tr>\n",
       "      <th>75%</th>\n",
       "      <td>92.500000</td>\n",
       "      <td>24.00000</td>\n",
       "    </tr>\n",
       "    <tr>\n",
       "      <th>max</th>\n",
       "      <td>99.000000</td>\n",
       "      <td>25.00000</td>\n",
       "    </tr>\n",
       "  </tbody>\n",
       "</table>\n",
       "</div>"
      ],
      "text/plain": [
       "           Marks       Age\n",
       "count   6.000000   6.00000\n",
       "mean   85.000000  23.00000\n",
       "std    10.601887   1.67332\n",
       "min    70.000000  21.00000\n",
       "25%    80.250000  21.50000\n",
       "50%    83.000000  23.50000\n",
       "75%    92.500000  24.00000\n",
       "max    99.000000  25.00000"
      ]
     },
     "execution_count": 35,
     "metadata": {},
     "output_type": "execute_result"
    }
   ],
   "source": [
    "df.describe()"
   ]
  },
  {
   "cell_type": "markdown",
   "id": "d7b74cda-53a7-41bb-83d3-92f78816db4e",
   "metadata": {},
   "source": [
    "***T : It is used to transpose a Dataframe.***"
   ]
  },
  {
   "cell_type": "code",
   "execution_count": 37,
   "id": "dc2de608-eeae-4c58-8f18-cfc28537ade5",
   "metadata": {},
   "outputs": [
    {
     "data": {
      "text/html": [
       "<div>\n",
       "<style scoped>\n",
       "    .dataframe tbody tr th:only-of-type {\n",
       "        vertical-align: middle;\n",
       "    }\n",
       "\n",
       "    .dataframe tbody tr th {\n",
       "        vertical-align: top;\n",
       "    }\n",
       "\n",
       "    .dataframe thead th {\n",
       "        text-align: right;\n",
       "    }\n",
       "</style>\n",
       "<table border=\"1\" class=\"dataframe\">\n",
       "  <thead>\n",
       "    <tr style=\"text-align: right;\">\n",
       "      <th></th>\n",
       "      <th>A</th>\n",
       "      <th>B</th>\n",
       "      <th>C</th>\n",
       "      <th>D</th>\n",
       "      <th>E</th>\n",
       "      <th>F</th>\n",
       "    </tr>\n",
       "  </thead>\n",
       "  <tbody>\n",
       "    <tr>\n",
       "      <th>Name</th>\n",
       "      <td>Krishna</td>\n",
       "      <td>Omi</td>\n",
       "      <td>Mukul</td>\n",
       "      <td>Aditi</td>\n",
       "      <td>Manish</td>\n",
       "      <td>Aditya</td>\n",
       "    </tr>\n",
       "    <tr>\n",
       "      <th>Marks</th>\n",
       "      <td>81</td>\n",
       "      <td>99</td>\n",
       "      <td>95</td>\n",
       "      <td>85</td>\n",
       "      <td>70</td>\n",
       "      <td>80</td>\n",
       "    </tr>\n",
       "    <tr>\n",
       "      <th>Age</th>\n",
       "      <td>24</td>\n",
       "      <td>21</td>\n",
       "      <td>24</td>\n",
       "      <td>21</td>\n",
       "      <td>23</td>\n",
       "      <td>25</td>\n",
       "    </tr>\n",
       "    <tr>\n",
       "      <th>City</th>\n",
       "      <td>Patna</td>\n",
       "      <td>Siwan</td>\n",
       "      <td>Varanasi</td>\n",
       "      <td>Ranchi</td>\n",
       "      <td>Jamshedpur</td>\n",
       "      <td>Bhopal</td>\n",
       "    </tr>\n",
       "  </tbody>\n",
       "</table>\n",
       "</div>"
      ],
      "text/plain": [
       "             A      B         C       D           E       F\n",
       "Name   Krishna    Omi     Mukul   Aditi      Manish  Aditya\n",
       "Marks       81     99        95      85          70      80\n",
       "Age         24     21        24      21          23      25\n",
       "City     Patna  Siwan  Varanasi  Ranchi  Jamshedpur  Bhopal"
      ]
     },
     "execution_count": 37,
     "metadata": {},
     "output_type": "execute_result"
    }
   ],
   "source": [
    "df.T"
   ]
  },
  {
   "cell_type": "markdown",
   "id": "fff86611-2a20-4823-872b-67a38f480aaf",
   "metadata": {},
   "source": [
    "***dtypes : In Pandas, dtypes (short for data types) refers to the type of data stored in each column of a Dataframe.***"
   ]
  },
  {
   "cell_type": "code",
   "execution_count": 39,
   "id": "9cb77f2c-8565-4953-978f-c5b01f712ea2",
   "metadata": {},
   "outputs": [
    {
     "data": {
      "text/plain": [
       "Name     object\n",
       "Marks     int64\n",
       "Age       int64\n",
       "City     object\n",
       "dtype: object"
      ]
     },
     "execution_count": 39,
     "metadata": {},
     "output_type": "execute_result"
    }
   ],
   "source": [
    "df.dtypes"
   ]
  },
  {
   "cell_type": "markdown",
   "id": "861ba086-a5d4-438d-9dbe-cc5f3b258ee5",
   "metadata": {},
   "source": [
    "***info() : It provides summary information about the Dataframe, including data types, non-null values, and memory usage.***"
   ]
  },
  {
   "cell_type": "code",
   "execution_count": 41,
   "id": "2d738f9b-39a1-4155-a9a3-304d699896ed",
   "metadata": {},
   "outputs": [
    {
     "name": "stdout",
     "output_type": "stream",
     "text": [
      "<class 'pandas.core.frame.DataFrame'>\n",
      "Index: 6 entries, A to F\n",
      "Data columns (total 4 columns):\n",
      " #   Column  Non-Null Count  Dtype \n",
      "---  ------  --------------  ----- \n",
      " 0   Name    6 non-null      object\n",
      " 1   Marks   6 non-null      int64 \n",
      " 2   Age     6 non-null      int64 \n",
      " 3   City    6 non-null      object\n",
      "dtypes: int64(2), object(2)\n",
      "memory usage: 412.0+ bytes\n"
     ]
    }
   ],
   "source": [
    "df.info()"
   ]
  },
  {
   "cell_type": "markdown",
   "id": "4878eadf-bce6-4564-bbdb-5b765927c403",
   "metadata": {},
   "source": [
    "***value_counts() : It is a method used to count the occurance of unique values in a series or Dataframe column.***"
   ]
  },
  {
   "cell_type": "code",
   "execution_count": 43,
   "id": "ad329daf-0416-41ec-9f77-fd0437dd7813",
   "metadata": {},
   "outputs": [
    {
     "data": {
      "text/plain": [
       "Age\n",
       "24    2\n",
       "21    2\n",
       "23    1\n",
       "25    1\n",
       "Name: count, dtype: int64"
      ]
     },
     "execution_count": 43,
     "metadata": {},
     "output_type": "execute_result"
    }
   ],
   "source": [
    "df['Age'].value_counts()"
   ]
  },
  {
   "cell_type": "markdown",
   "id": "5a4b5ee7-bc4f-4def-8265-20afb0046e0f",
   "metadata": {},
   "source": [
    "### Converting a Dataframe or Series to Numpy array."
   ]
  },
  {
   "cell_type": "markdown",
   "id": "7dd10a9d-c730-4ae8-af27-7e99beba1b6d",
   "metadata": {},
   "source": [
    "***to_numpy() : It is a method used to convert a Dataframe or Series to a Numpy array.***"
   ]
  },
  {
   "cell_type": "code",
   "execution_count": 46,
   "id": "41bd65d2-b9e9-4ede-a22c-ecbfa8426e4e",
   "metadata": {},
   "outputs": [
    {
     "data": {
      "text/plain": [
       "array([['Krishna', 81, 24, 'Patna'],\n",
       "       ['Omi', 99, 21, 'Siwan'],\n",
       "       ['Mukul', 95, 24, 'Varanasi'],\n",
       "       ['Aditi', 85, 21, 'Ranchi'],\n",
       "       ['Manish', 70, 23, 'Jamshedpur'],\n",
       "       ['Aditya', 80, 25, 'Bhopal']], dtype=object)"
      ]
     },
     "execution_count": 46,
     "metadata": {},
     "output_type": "execute_result"
    }
   ],
   "source": [
    "df.to_numpy()"
   ]
  },
  {
   "cell_type": "markdown",
   "id": "173c2739-2bee-47ec-99f0-3f42e3569ac4",
   "metadata": {},
   "source": [
    "### Creating a shallow copy of Dataframe."
   ]
  },
  {
   "cell_type": "markdown",
   "id": "0c982be6-6418-4f63-b274-dc8cfe7f027c",
   "metadata": {},
   "source": [
    "A shallow copy in Pandas creates a new Dataframe object that refrences the same underlying data as the original Dataframe. This means that any changes made to one Dataframe will also reflect in the other.\n",
    "\n",
    "***It is like two people sharing the same book. If one person writes something in the book, the other person will also see the change.***"
   ]
  },
  {
   "cell_type": "code",
   "execution_count": 49,
   "id": "3a6bf20a-4c9b-42bd-940a-c1010eee1c80",
   "metadata": {},
   "outputs": [],
   "source": [
    "df2 = df"
   ]
  },
  {
   "cell_type": "code",
   "execution_count": 50,
   "id": "a2092393-0a48-434a-bc7f-ff99f331b411",
   "metadata": {},
   "outputs": [
    {
     "data": {
      "text/html": [
       "<div>\n",
       "<style scoped>\n",
       "    .dataframe tbody tr th:only-of-type {\n",
       "        vertical-align: middle;\n",
       "    }\n",
       "\n",
       "    .dataframe tbody tr th {\n",
       "        vertical-align: top;\n",
       "    }\n",
       "\n",
       "    .dataframe thead th {\n",
       "        text-align: right;\n",
       "    }\n",
       "</style>\n",
       "<table border=\"1\" class=\"dataframe\">\n",
       "  <thead>\n",
       "    <tr style=\"text-align: right;\">\n",
       "      <th></th>\n",
       "      <th>Name</th>\n",
       "      <th>Marks</th>\n",
       "      <th>Age</th>\n",
       "      <th>City</th>\n",
       "    </tr>\n",
       "  </thead>\n",
       "  <tbody>\n",
       "    <tr>\n",
       "      <th>A</th>\n",
       "      <td>Krishna</td>\n",
       "      <td>81</td>\n",
       "      <td>24</td>\n",
       "      <td>Patna</td>\n",
       "    </tr>\n",
       "    <tr>\n",
       "      <th>B</th>\n",
       "      <td>Omi</td>\n",
       "      <td>99</td>\n",
       "      <td>21</td>\n",
       "      <td>Siwan</td>\n",
       "    </tr>\n",
       "    <tr>\n",
       "      <th>C</th>\n",
       "      <td>Mukul</td>\n",
       "      <td>95</td>\n",
       "      <td>24</td>\n",
       "      <td>Varanasi</td>\n",
       "    </tr>\n",
       "    <tr>\n",
       "      <th>D</th>\n",
       "      <td>Aditi</td>\n",
       "      <td>85</td>\n",
       "      <td>21</td>\n",
       "      <td>Ranchi</td>\n",
       "    </tr>\n",
       "    <tr>\n",
       "      <th>E</th>\n",
       "      <td>Manish</td>\n",
       "      <td>70</td>\n",
       "      <td>23</td>\n",
       "      <td>Jamshedpur</td>\n",
       "    </tr>\n",
       "    <tr>\n",
       "      <th>F</th>\n",
       "      <td>Aditya</td>\n",
       "      <td>80</td>\n",
       "      <td>25</td>\n",
       "      <td>Bhopal</td>\n",
       "    </tr>\n",
       "  </tbody>\n",
       "</table>\n",
       "</div>"
      ],
      "text/plain": [
       "      Name  Marks  Age        City\n",
       "A  Krishna     81   24       Patna\n",
       "B      Omi     99   21       Siwan\n",
       "C    Mukul     95   24    Varanasi\n",
       "D    Aditi     85   21      Ranchi\n",
       "E   Manish     70   23  Jamshedpur\n",
       "F   Aditya     80   25      Bhopal"
      ]
     },
     "execution_count": 50,
     "metadata": {},
     "output_type": "execute_result"
    }
   ],
   "source": [
    "df2"
   ]
  },
  {
   "cell_type": "code",
   "execution_count": 51,
   "id": "30e22b59-48b9-4ece-91b2-92c3cb0105e8",
   "metadata": {},
   "outputs": [
    {
     "name": "stderr",
     "output_type": "stream",
     "text": [
      "C:\\Users\\mysel\\AppData\\Local\\Temp\\ipykernel_13316\\3035179626.py:1: FutureWarning: ChainedAssignmentError: behaviour will change in pandas 3.0!\n",
      "You are setting values through chained assignment. Currently this works in certain cases, but when using Copy-on-Write (which will become the default behaviour in pandas 3.0) this will never work to update the original DataFrame or Series, because the intermediate object on which we are setting values will behave as a copy.\n",
      "A typical example is when you are setting values in a column of a DataFrame, like:\n",
      "\n",
      "df[\"col\"][row_indexer] = value\n",
      "\n",
      "Use `df.loc[row_indexer, \"col\"] = values` instead, to perform the assignment in a single step and ensure this keeps updating the original `df`.\n",
      "\n",
      "See the caveats in the documentation: https://pandas.pydata.org/pandas-docs/stable/user_guide/indexing.html#returning-a-view-versus-a-copy\n",
      "\n",
      "  df2['Marks']['A'] = 33\n",
      "C:\\Users\\mysel\\AppData\\Local\\Temp\\ipykernel_13316\\3035179626.py:1: SettingWithCopyWarning: \n",
      "A value is trying to be set on a copy of a slice from a DataFrame\n",
      "\n",
      "See the caveats in the documentation: https://pandas.pydata.org/pandas-docs/stable/user_guide/indexing.html#returning-a-view-versus-a-copy\n",
      "  df2['Marks']['A'] = 33\n"
     ]
    }
   ],
   "source": [
    "df2['Marks']['A'] = 33"
   ]
  },
  {
   "cell_type": "code",
   "execution_count": 52,
   "id": "680885ff-eb83-4398-ad96-6c7ed5d4d7d6",
   "metadata": {},
   "outputs": [
    {
     "data": {
      "text/html": [
       "<div>\n",
       "<style scoped>\n",
       "    .dataframe tbody tr th:only-of-type {\n",
       "        vertical-align: middle;\n",
       "    }\n",
       "\n",
       "    .dataframe tbody tr th {\n",
       "        vertical-align: top;\n",
       "    }\n",
       "\n",
       "    .dataframe thead th {\n",
       "        text-align: right;\n",
       "    }\n",
       "</style>\n",
       "<table border=\"1\" class=\"dataframe\">\n",
       "  <thead>\n",
       "    <tr style=\"text-align: right;\">\n",
       "      <th></th>\n",
       "      <th>Name</th>\n",
       "      <th>Marks</th>\n",
       "      <th>Age</th>\n",
       "      <th>City</th>\n",
       "    </tr>\n",
       "  </thead>\n",
       "  <tbody>\n",
       "    <tr>\n",
       "      <th>A</th>\n",
       "      <td>Krishna</td>\n",
       "      <td>33</td>\n",
       "      <td>24</td>\n",
       "      <td>Patna</td>\n",
       "    </tr>\n",
       "    <tr>\n",
       "      <th>B</th>\n",
       "      <td>Omi</td>\n",
       "      <td>99</td>\n",
       "      <td>21</td>\n",
       "      <td>Siwan</td>\n",
       "    </tr>\n",
       "    <tr>\n",
       "      <th>C</th>\n",
       "      <td>Mukul</td>\n",
       "      <td>95</td>\n",
       "      <td>24</td>\n",
       "      <td>Varanasi</td>\n",
       "    </tr>\n",
       "    <tr>\n",
       "      <th>D</th>\n",
       "      <td>Aditi</td>\n",
       "      <td>85</td>\n",
       "      <td>21</td>\n",
       "      <td>Ranchi</td>\n",
       "    </tr>\n",
       "    <tr>\n",
       "      <th>E</th>\n",
       "      <td>Manish</td>\n",
       "      <td>70</td>\n",
       "      <td>23</td>\n",
       "      <td>Jamshedpur</td>\n",
       "    </tr>\n",
       "    <tr>\n",
       "      <th>F</th>\n",
       "      <td>Aditya</td>\n",
       "      <td>80</td>\n",
       "      <td>25</td>\n",
       "      <td>Bhopal</td>\n",
       "    </tr>\n",
       "  </tbody>\n",
       "</table>\n",
       "</div>"
      ],
      "text/plain": [
       "      Name  Marks  Age        City\n",
       "A  Krishna     33   24       Patna\n",
       "B      Omi     99   21       Siwan\n",
       "C    Mukul     95   24    Varanasi\n",
       "D    Aditi     85   21      Ranchi\n",
       "E   Manish     70   23  Jamshedpur\n",
       "F   Aditya     80   25      Bhopal"
      ]
     },
     "execution_count": 52,
     "metadata": {},
     "output_type": "execute_result"
    }
   ],
   "source": [
    "df"
   ]
  },
  {
   "cell_type": "markdown",
   "id": "a34fe2ec-ea98-4ac3-99f8-d33b57049703",
   "metadata": {},
   "source": [
    "### Creating a deep copy of Dataframe."
   ]
  },
  {
   "cell_type": "markdown",
   "id": "2557e0f6-8e72-493f-9157-3be6a907c67b",
   "metadata": {},
   "source": [
    "A deep copy in Pandas creates a new Dataframe object with its own copy of the data. This means the changes made to one Dataframe will not affect the other.\n",
    "\n",
    "***To create a deeep copy of a Dataframe in Pandas, we use the copy() method.***"
   ]
  },
  {
   "cell_type": "code",
   "execution_count": 55,
   "id": "fc7d0682-b544-43db-8d86-fdb8bf5e467e",
   "metadata": {},
   "outputs": [],
   "source": [
    "df3 = df.copy()"
   ]
  },
  {
   "cell_type": "code",
   "execution_count": 56,
   "id": "afa2e674-a900-42a2-8006-87906d087986",
   "metadata": {},
   "outputs": [
    {
     "name": "stderr",
     "output_type": "stream",
     "text": [
      "C:\\Users\\mysel\\AppData\\Local\\Temp\\ipykernel_13316\\4066807169.py:1: FutureWarning: ChainedAssignmentError: behaviour will change in pandas 3.0!\n",
      "You are setting values through chained assignment. Currently this works in certain cases, but when using Copy-on-Write (which will become the default behaviour in pandas 3.0) this will never work to update the original DataFrame or Series, because the intermediate object on which we are setting values will behave as a copy.\n",
      "A typical example is when you are setting values in a column of a DataFrame, like:\n",
      "\n",
      "df[\"col\"][row_indexer] = value\n",
      "\n",
      "Use `df.loc[row_indexer, \"col\"] = values` instead, to perform the assignment in a single step and ensure this keeps updating the original `df`.\n",
      "\n",
      "See the caveats in the documentation: https://pandas.pydata.org/pandas-docs/stable/user_guide/indexing.html#returning-a-view-versus-a-copy\n",
      "\n",
      "  df3['Marks']['A'] = 100\n",
      "C:\\Users\\mysel\\AppData\\Local\\Temp\\ipykernel_13316\\4066807169.py:1: SettingWithCopyWarning: \n",
      "A value is trying to be set on a copy of a slice from a DataFrame\n",
      "\n",
      "See the caveats in the documentation: https://pandas.pydata.org/pandas-docs/stable/user_guide/indexing.html#returning-a-view-versus-a-copy\n",
      "  df3['Marks']['A'] = 100\n"
     ]
    }
   ],
   "source": [
    "df3['Marks']['A'] = 100"
   ]
  },
  {
   "cell_type": "code",
   "execution_count": 57,
   "id": "ce466f2c-0254-4f8c-bf15-7cf57839f594",
   "metadata": {},
   "outputs": [
    {
     "data": {
      "text/html": [
       "<div>\n",
       "<style scoped>\n",
       "    .dataframe tbody tr th:only-of-type {\n",
       "        vertical-align: middle;\n",
       "    }\n",
       "\n",
       "    .dataframe tbody tr th {\n",
       "        vertical-align: top;\n",
       "    }\n",
       "\n",
       "    .dataframe thead th {\n",
       "        text-align: right;\n",
       "    }\n",
       "</style>\n",
       "<table border=\"1\" class=\"dataframe\">\n",
       "  <thead>\n",
       "    <tr style=\"text-align: right;\">\n",
       "      <th></th>\n",
       "      <th>Name</th>\n",
       "      <th>Marks</th>\n",
       "      <th>Age</th>\n",
       "      <th>City</th>\n",
       "    </tr>\n",
       "  </thead>\n",
       "  <tbody>\n",
       "    <tr>\n",
       "      <th>A</th>\n",
       "      <td>Krishna</td>\n",
       "      <td>100</td>\n",
       "      <td>24</td>\n",
       "      <td>Patna</td>\n",
       "    </tr>\n",
       "    <tr>\n",
       "      <th>B</th>\n",
       "      <td>Omi</td>\n",
       "      <td>99</td>\n",
       "      <td>21</td>\n",
       "      <td>Siwan</td>\n",
       "    </tr>\n",
       "    <tr>\n",
       "      <th>C</th>\n",
       "      <td>Mukul</td>\n",
       "      <td>95</td>\n",
       "      <td>24</td>\n",
       "      <td>Varanasi</td>\n",
       "    </tr>\n",
       "    <tr>\n",
       "      <th>D</th>\n",
       "      <td>Aditi</td>\n",
       "      <td>85</td>\n",
       "      <td>21</td>\n",
       "      <td>Ranchi</td>\n",
       "    </tr>\n",
       "    <tr>\n",
       "      <th>E</th>\n",
       "      <td>Manish</td>\n",
       "      <td>70</td>\n",
       "      <td>23</td>\n",
       "      <td>Jamshedpur</td>\n",
       "    </tr>\n",
       "    <tr>\n",
       "      <th>F</th>\n",
       "      <td>Aditya</td>\n",
       "      <td>80</td>\n",
       "      <td>25</td>\n",
       "      <td>Bhopal</td>\n",
       "    </tr>\n",
       "  </tbody>\n",
       "</table>\n",
       "</div>"
      ],
      "text/plain": [
       "      Name  Marks  Age        City\n",
       "A  Krishna    100   24       Patna\n",
       "B      Omi     99   21       Siwan\n",
       "C    Mukul     95   24    Varanasi\n",
       "D    Aditi     85   21      Ranchi\n",
       "E   Manish     70   23  Jamshedpur\n",
       "F   Aditya     80   25      Bhopal"
      ]
     },
     "execution_count": 57,
     "metadata": {},
     "output_type": "execute_result"
    }
   ],
   "source": [
    "df3"
   ]
  },
  {
   "cell_type": "code",
   "execution_count": 58,
   "id": "7863016d-53aa-42d2-a757-7d5bc716fced",
   "metadata": {},
   "outputs": [
    {
     "data": {
      "text/html": [
       "<div>\n",
       "<style scoped>\n",
       "    .dataframe tbody tr th:only-of-type {\n",
       "        vertical-align: middle;\n",
       "    }\n",
       "\n",
       "    .dataframe tbody tr th {\n",
       "        vertical-align: top;\n",
       "    }\n",
       "\n",
       "    .dataframe thead th {\n",
       "        text-align: right;\n",
       "    }\n",
       "</style>\n",
       "<table border=\"1\" class=\"dataframe\">\n",
       "  <thead>\n",
       "    <tr style=\"text-align: right;\">\n",
       "      <th></th>\n",
       "      <th>Name</th>\n",
       "      <th>Marks</th>\n",
       "      <th>Age</th>\n",
       "      <th>City</th>\n",
       "    </tr>\n",
       "  </thead>\n",
       "  <tbody>\n",
       "    <tr>\n",
       "      <th>A</th>\n",
       "      <td>Krishna</td>\n",
       "      <td>33</td>\n",
       "      <td>24</td>\n",
       "      <td>Patna</td>\n",
       "    </tr>\n",
       "    <tr>\n",
       "      <th>B</th>\n",
       "      <td>Omi</td>\n",
       "      <td>99</td>\n",
       "      <td>21</td>\n",
       "      <td>Siwan</td>\n",
       "    </tr>\n",
       "    <tr>\n",
       "      <th>C</th>\n",
       "      <td>Mukul</td>\n",
       "      <td>95</td>\n",
       "      <td>24</td>\n",
       "      <td>Varanasi</td>\n",
       "    </tr>\n",
       "    <tr>\n",
       "      <th>D</th>\n",
       "      <td>Aditi</td>\n",
       "      <td>85</td>\n",
       "      <td>21</td>\n",
       "      <td>Ranchi</td>\n",
       "    </tr>\n",
       "    <tr>\n",
       "      <th>E</th>\n",
       "      <td>Manish</td>\n",
       "      <td>70</td>\n",
       "      <td>23</td>\n",
       "      <td>Jamshedpur</td>\n",
       "    </tr>\n",
       "    <tr>\n",
       "      <th>F</th>\n",
       "      <td>Aditya</td>\n",
       "      <td>80</td>\n",
       "      <td>25</td>\n",
       "      <td>Bhopal</td>\n",
       "    </tr>\n",
       "  </tbody>\n",
       "</table>\n",
       "</div>"
      ],
      "text/plain": [
       "      Name  Marks  Age        City\n",
       "A  Krishna     33   24       Patna\n",
       "B      Omi     99   21       Siwan\n",
       "C    Mukul     95   24    Varanasi\n",
       "D    Aditi     85   21      Ranchi\n",
       "E   Manish     70   23  Jamshedpur\n",
       "F   Aditya     80   25      Bhopal"
      ]
     },
     "execution_count": 58,
     "metadata": {},
     "output_type": "execute_result"
    }
   ],
   "source": [
    "df"
   ]
  },
  {
   "cell_type": "markdown",
   "id": "fb67f597-a66c-48d4-b88d-691ddbda4d25",
   "metadata": {},
   "source": [
    "### LOC AND ILOC"
   ]
  },
  {
   "cell_type": "markdown",
   "id": "81227581-1d91-4d0a-8706-72da43e49061",
   "metadata": {},
   "source": [
    "***loc : It is used for label-based indexing and selection. It allows you to select data from a Dataframe using rows and column labels, providing flexibility and ease of use.***"
   ]
  },
  {
   "cell_type": "code",
   "execution_count": 61,
   "id": "d89cda6b-beef-41ef-87e3-0a2a44fdbf07",
   "metadata": {},
   "outputs": [],
   "source": [
    "df.loc[0,0] = 10"
   ]
  },
  {
   "cell_type": "code",
   "execution_count": 62,
   "id": "f373be0e-2fb0-4d3a-bd32-ec45db2a5164",
   "metadata": {},
   "outputs": [
    {
     "data": {
      "text/html": [
       "<div>\n",
       "<style scoped>\n",
       "    .dataframe tbody tr th:only-of-type {\n",
       "        vertical-align: middle;\n",
       "    }\n",
       "\n",
       "    .dataframe tbody tr th {\n",
       "        vertical-align: top;\n",
       "    }\n",
       "\n",
       "    .dataframe thead th {\n",
       "        text-align: right;\n",
       "    }\n",
       "</style>\n",
       "<table border=\"1\" class=\"dataframe\">\n",
       "  <thead>\n",
       "    <tr style=\"text-align: right;\">\n",
       "      <th></th>\n",
       "      <th>Name</th>\n",
       "      <th>Marks</th>\n",
       "      <th>Age</th>\n",
       "      <th>City</th>\n",
       "      <th>0</th>\n",
       "    </tr>\n",
       "  </thead>\n",
       "  <tbody>\n",
       "    <tr>\n",
       "      <th>A</th>\n",
       "      <td>Krishna</td>\n",
       "      <td>33.0</td>\n",
       "      <td>24.0</td>\n",
       "      <td>Patna</td>\n",
       "      <td>NaN</td>\n",
       "    </tr>\n",
       "    <tr>\n",
       "      <th>B</th>\n",
       "      <td>Omi</td>\n",
       "      <td>99.0</td>\n",
       "      <td>21.0</td>\n",
       "      <td>Siwan</td>\n",
       "      <td>NaN</td>\n",
       "    </tr>\n",
       "    <tr>\n",
       "      <th>C</th>\n",
       "      <td>Mukul</td>\n",
       "      <td>95.0</td>\n",
       "      <td>24.0</td>\n",
       "      <td>Varanasi</td>\n",
       "      <td>NaN</td>\n",
       "    </tr>\n",
       "    <tr>\n",
       "      <th>D</th>\n",
       "      <td>Aditi</td>\n",
       "      <td>85.0</td>\n",
       "      <td>21.0</td>\n",
       "      <td>Ranchi</td>\n",
       "      <td>NaN</td>\n",
       "    </tr>\n",
       "    <tr>\n",
       "      <th>E</th>\n",
       "      <td>Manish</td>\n",
       "      <td>70.0</td>\n",
       "      <td>23.0</td>\n",
       "      <td>Jamshedpur</td>\n",
       "      <td>NaN</td>\n",
       "    </tr>\n",
       "    <tr>\n",
       "      <th>F</th>\n",
       "      <td>Aditya</td>\n",
       "      <td>80.0</td>\n",
       "      <td>25.0</td>\n",
       "      <td>Bhopal</td>\n",
       "      <td>NaN</td>\n",
       "    </tr>\n",
       "    <tr>\n",
       "      <th>0</th>\n",
       "      <td>NaN</td>\n",
       "      <td>NaN</td>\n",
       "      <td>NaN</td>\n",
       "      <td>NaN</td>\n",
       "      <td>10.0</td>\n",
       "    </tr>\n",
       "  </tbody>\n",
       "</table>\n",
       "</div>"
      ],
      "text/plain": [
       "      Name  Marks   Age        City     0\n",
       "A  Krishna   33.0  24.0       Patna   NaN\n",
       "B      Omi   99.0  21.0       Siwan   NaN\n",
       "C    Mukul   95.0  24.0    Varanasi   NaN\n",
       "D    Aditi   85.0  21.0      Ranchi   NaN\n",
       "E   Manish   70.0  23.0  Jamshedpur   NaN\n",
       "F   Aditya   80.0  25.0      Bhopal   NaN\n",
       "0      NaN    NaN   NaN         NaN  10.0"
      ]
     },
     "execution_count": 62,
     "metadata": {},
     "output_type": "execute_result"
    }
   ],
   "source": [
    "df"
   ]
  },
  {
   "cell_type": "markdown",
   "id": "b1be0c41-2355-4438-b4af-febed32a2b04",
   "metadata": {},
   "source": [
    "***drop() : It is used to remove rows or columns in a Dataframe.***"
   ]
  },
  {
   "cell_type": "code",
   "execution_count": 64,
   "id": "931425c9-781c-4970-8520-04e56818d743",
   "metadata": {},
   "outputs": [],
   "source": [
    "df = df.drop(0, axis=0)\n",
    "df = df.drop(0, axis=1)"
   ]
  },
  {
   "cell_type": "code",
   "execution_count": 65,
   "id": "f1f09adc-daf0-4584-b1fb-6b7c9977b072",
   "metadata": {},
   "outputs": [
    {
     "data": {
      "text/html": [
       "<div>\n",
       "<style scoped>\n",
       "    .dataframe tbody tr th:only-of-type {\n",
       "        vertical-align: middle;\n",
       "    }\n",
       "\n",
       "    .dataframe tbody tr th {\n",
       "        vertical-align: top;\n",
       "    }\n",
       "\n",
       "    .dataframe thead th {\n",
       "        text-align: right;\n",
       "    }\n",
       "</style>\n",
       "<table border=\"1\" class=\"dataframe\">\n",
       "  <thead>\n",
       "    <tr style=\"text-align: right;\">\n",
       "      <th></th>\n",
       "      <th>Name</th>\n",
       "      <th>Marks</th>\n",
       "      <th>Age</th>\n",
       "      <th>City</th>\n",
       "    </tr>\n",
       "  </thead>\n",
       "  <tbody>\n",
       "    <tr>\n",
       "      <th>A</th>\n",
       "      <td>Krishna</td>\n",
       "      <td>33.0</td>\n",
       "      <td>24.0</td>\n",
       "      <td>Patna</td>\n",
       "    </tr>\n",
       "    <tr>\n",
       "      <th>B</th>\n",
       "      <td>Omi</td>\n",
       "      <td>99.0</td>\n",
       "      <td>21.0</td>\n",
       "      <td>Siwan</td>\n",
       "    </tr>\n",
       "    <tr>\n",
       "      <th>C</th>\n",
       "      <td>Mukul</td>\n",
       "      <td>95.0</td>\n",
       "      <td>24.0</td>\n",
       "      <td>Varanasi</td>\n",
       "    </tr>\n",
       "    <tr>\n",
       "      <th>D</th>\n",
       "      <td>Aditi</td>\n",
       "      <td>85.0</td>\n",
       "      <td>21.0</td>\n",
       "      <td>Ranchi</td>\n",
       "    </tr>\n",
       "    <tr>\n",
       "      <th>E</th>\n",
       "      <td>Manish</td>\n",
       "      <td>70.0</td>\n",
       "      <td>23.0</td>\n",
       "      <td>Jamshedpur</td>\n",
       "    </tr>\n",
       "    <tr>\n",
       "      <th>F</th>\n",
       "      <td>Aditya</td>\n",
       "      <td>80.0</td>\n",
       "      <td>25.0</td>\n",
       "      <td>Bhopal</td>\n",
       "    </tr>\n",
       "  </tbody>\n",
       "</table>\n",
       "</div>"
      ],
      "text/plain": [
       "      Name  Marks   Age        City\n",
       "A  Krishna   33.0  24.0       Patna\n",
       "B      Omi   99.0  21.0       Siwan\n",
       "C    Mukul   95.0  24.0    Varanasi\n",
       "D    Aditi   85.0  21.0      Ranchi\n",
       "E   Manish   70.0  23.0  Jamshedpur\n",
       "F   Aditya   80.0  25.0      Bhopal"
      ]
     },
     "execution_count": 65,
     "metadata": {},
     "output_type": "execute_result"
    }
   ],
   "source": [
    "df"
   ]
  },
  {
   "cell_type": "code",
   "execution_count": 66,
   "id": "4786bbcc-77ca-41eb-a36a-321fd4a33ddd",
   "metadata": {},
   "outputs": [
    {
     "data": {
      "text/html": [
       "<div>\n",
       "<style scoped>\n",
       "    .dataframe tbody tr th:only-of-type {\n",
       "        vertical-align: middle;\n",
       "    }\n",
       "\n",
       "    .dataframe tbody tr th {\n",
       "        vertical-align: top;\n",
       "    }\n",
       "\n",
       "    .dataframe thead th {\n",
       "        text-align: right;\n",
       "    }\n",
       "</style>\n",
       "<table border=\"1\" class=\"dataframe\">\n",
       "  <thead>\n",
       "    <tr style=\"text-align: right;\">\n",
       "      <th></th>\n",
       "      <th>Name</th>\n",
       "      <th>City</th>\n",
       "    </tr>\n",
       "  </thead>\n",
       "  <tbody>\n",
       "    <tr>\n",
       "      <th>A</th>\n",
       "      <td>Krishna</td>\n",
       "      <td>Patna</td>\n",
       "    </tr>\n",
       "    <tr>\n",
       "      <th>B</th>\n",
       "      <td>Omi</td>\n",
       "      <td>Siwan</td>\n",
       "    </tr>\n",
       "    <tr>\n",
       "      <th>C</th>\n",
       "      <td>Mukul</td>\n",
       "      <td>Varanasi</td>\n",
       "    </tr>\n",
       "    <tr>\n",
       "      <th>D</th>\n",
       "      <td>Aditi</td>\n",
       "      <td>Ranchi</td>\n",
       "    </tr>\n",
       "    <tr>\n",
       "      <th>E</th>\n",
       "      <td>Manish</td>\n",
       "      <td>Jamshedpur</td>\n",
       "    </tr>\n",
       "    <tr>\n",
       "      <th>F</th>\n",
       "      <td>Aditya</td>\n",
       "      <td>Bhopal</td>\n",
       "    </tr>\n",
       "  </tbody>\n",
       "</table>\n",
       "</div>"
      ],
      "text/plain": [
       "      Name        City\n",
       "A  Krishna       Patna\n",
       "B      Omi       Siwan\n",
       "C    Mukul    Varanasi\n",
       "D    Aditi      Ranchi\n",
       "E   Manish  Jamshedpur\n",
       "F   Aditya      Bhopal"
      ]
     },
     "execution_count": 66,
     "metadata": {},
     "output_type": "execute_result"
    }
   ],
   "source": [
    "df.drop(['Marks', 'Age'], axis=1)"
   ]
  },
  {
   "cell_type": "code",
   "execution_count": 67,
   "id": "b5b55f2e-6308-4f8a-bb42-ea4af3763dd0",
   "metadata": {},
   "outputs": [
    {
     "data": {
      "text/html": [
       "<div>\n",
       "<style scoped>\n",
       "    .dataframe tbody tr th:only-of-type {\n",
       "        vertical-align: middle;\n",
       "    }\n",
       "\n",
       "    .dataframe tbody tr th {\n",
       "        vertical-align: top;\n",
       "    }\n",
       "\n",
       "    .dataframe thead th {\n",
       "        text-align: right;\n",
       "    }\n",
       "</style>\n",
       "<table border=\"1\" class=\"dataframe\">\n",
       "  <thead>\n",
       "    <tr style=\"text-align: right;\">\n",
       "      <th></th>\n",
       "      <th>Name</th>\n",
       "      <th>Marks</th>\n",
       "      <th>Age</th>\n",
       "      <th>City</th>\n",
       "    </tr>\n",
       "  </thead>\n",
       "  <tbody>\n",
       "    <tr>\n",
       "      <th>A</th>\n",
       "      <td>Krishna</td>\n",
       "      <td>33.0</td>\n",
       "      <td>24.0</td>\n",
       "      <td>Patna</td>\n",
       "    </tr>\n",
       "    <tr>\n",
       "      <th>B</th>\n",
       "      <td>Omi</td>\n",
       "      <td>99.0</td>\n",
       "      <td>21.0</td>\n",
       "      <td>Siwan</td>\n",
       "    </tr>\n",
       "    <tr>\n",
       "      <th>C</th>\n",
       "      <td>Mukul</td>\n",
       "      <td>95.0</td>\n",
       "      <td>24.0</td>\n",
       "      <td>Varanasi</td>\n",
       "    </tr>\n",
       "    <tr>\n",
       "      <th>D</th>\n",
       "      <td>Aditi</td>\n",
       "      <td>85.0</td>\n",
       "      <td>21.0</td>\n",
       "      <td>Ranchi</td>\n",
       "    </tr>\n",
       "    <tr>\n",
       "      <th>E</th>\n",
       "      <td>Manish</td>\n",
       "      <td>70.0</td>\n",
       "      <td>23.0</td>\n",
       "      <td>Jamshedpur</td>\n",
       "    </tr>\n",
       "    <tr>\n",
       "      <th>F</th>\n",
       "      <td>Aditya</td>\n",
       "      <td>80.0</td>\n",
       "      <td>25.0</td>\n",
       "      <td>Bhopal</td>\n",
       "    </tr>\n",
       "  </tbody>\n",
       "</table>\n",
       "</div>"
      ],
      "text/plain": [
       "      Name  Marks   Age        City\n",
       "A  Krishna   33.0  24.0       Patna\n",
       "B      Omi   99.0  21.0       Siwan\n",
       "C    Mukul   95.0  24.0    Varanasi\n",
       "D    Aditi   85.0  21.0      Ranchi\n",
       "E   Manish   70.0  23.0  Jamshedpur\n",
       "F   Aditya   80.0  25.0      Bhopal"
      ]
     },
     "execution_count": 67,
     "metadata": {},
     "output_type": "execute_result"
    }
   ],
   "source": [
    "df"
   ]
  },
  {
   "cell_type": "code",
   "execution_count": 68,
   "id": "175859aa-d1a0-4a9b-97cc-4381d574e768",
   "metadata": {},
   "outputs": [
    {
     "data": {
      "text/html": [
       "<div>\n",
       "<style scoped>\n",
       "    .dataframe tbody tr th:only-of-type {\n",
       "        vertical-align: middle;\n",
       "    }\n",
       "\n",
       "    .dataframe tbody tr th {\n",
       "        vertical-align: top;\n",
       "    }\n",
       "\n",
       "    .dataframe thead th {\n",
       "        text-align: right;\n",
       "    }\n",
       "</style>\n",
       "<table border=\"1\" class=\"dataframe\">\n",
       "  <thead>\n",
       "    <tr style=\"text-align: right;\">\n",
       "      <th></th>\n",
       "      <th>Name</th>\n",
       "      <th>City</th>\n",
       "    </tr>\n",
       "  </thead>\n",
       "  <tbody>\n",
       "    <tr>\n",
       "      <th>A</th>\n",
       "      <td>Krishna</td>\n",
       "      <td>Patna</td>\n",
       "    </tr>\n",
       "    <tr>\n",
       "      <th>B</th>\n",
       "      <td>Omi</td>\n",
       "      <td>Siwan</td>\n",
       "    </tr>\n",
       "  </tbody>\n",
       "</table>\n",
       "</div>"
      ],
      "text/plain": [
       "      Name   City\n",
       "A  Krishna  Patna\n",
       "B      Omi  Siwan"
      ]
     },
     "execution_count": 68,
     "metadata": {},
     "output_type": "execute_result"
    }
   ],
   "source": [
    "df.loc[['A', 'B'],['Name','City']]"
   ]
  },
  {
   "cell_type": "code",
   "execution_count": 69,
   "id": "499c9129",
   "metadata": {},
   "outputs": [
    {
     "data": {
      "text/html": [
       "<div>\n",
       "<style scoped>\n",
       "    .dataframe tbody tr th:only-of-type {\n",
       "        vertical-align: middle;\n",
       "    }\n",
       "\n",
       "    .dataframe tbody tr th {\n",
       "        vertical-align: top;\n",
       "    }\n",
       "\n",
       "    .dataframe thead th {\n",
       "        text-align: right;\n",
       "    }\n",
       "</style>\n",
       "<table border=\"1\" class=\"dataframe\">\n",
       "  <thead>\n",
       "    <tr style=\"text-align: right;\">\n",
       "      <th></th>\n",
       "      <th>Name</th>\n",
       "      <th>City</th>\n",
       "    </tr>\n",
       "  </thead>\n",
       "  <tbody>\n",
       "    <tr>\n",
       "      <th>A</th>\n",
       "      <td>Krishna</td>\n",
       "      <td>Patna</td>\n",
       "    </tr>\n",
       "    <tr>\n",
       "      <th>B</th>\n",
       "      <td>Omi</td>\n",
       "      <td>Siwan</td>\n",
       "    </tr>\n",
       "    <tr>\n",
       "      <th>C</th>\n",
       "      <td>Mukul</td>\n",
       "      <td>Varanasi</td>\n",
       "    </tr>\n",
       "    <tr>\n",
       "      <th>D</th>\n",
       "      <td>Aditi</td>\n",
       "      <td>Ranchi</td>\n",
       "    </tr>\n",
       "    <tr>\n",
       "      <th>E</th>\n",
       "      <td>Manish</td>\n",
       "      <td>Jamshedpur</td>\n",
       "    </tr>\n",
       "    <tr>\n",
       "      <th>F</th>\n",
       "      <td>Aditya</td>\n",
       "      <td>Bhopal</td>\n",
       "    </tr>\n",
       "  </tbody>\n",
       "</table>\n",
       "</div>"
      ],
      "text/plain": [
       "      Name        City\n",
       "A  Krishna       Patna\n",
       "B      Omi       Siwan\n",
       "C    Mukul    Varanasi\n",
       "D    Aditi      Ranchi\n",
       "E   Manish  Jamshedpur\n",
       "F   Aditya      Bhopal"
      ]
     },
     "execution_count": 69,
     "metadata": {},
     "output_type": "execute_result"
    }
   ],
   "source": [
    "df.loc[:,['Name','City']]"
   ]
  },
  {
   "cell_type": "code",
   "execution_count": 70,
   "id": "a38e6148",
   "metadata": {},
   "outputs": [
    {
     "data": {
      "text/html": [
       "<div>\n",
       "<style scoped>\n",
       "    .dataframe tbody tr th:only-of-type {\n",
       "        vertical-align: middle;\n",
       "    }\n",
       "\n",
       "    .dataframe tbody tr th {\n",
       "        vertical-align: top;\n",
       "    }\n",
       "\n",
       "    .dataframe thead th {\n",
       "        text-align: right;\n",
       "    }\n",
       "</style>\n",
       "<table border=\"1\" class=\"dataframe\">\n",
       "  <thead>\n",
       "    <tr style=\"text-align: right;\">\n",
       "      <th></th>\n",
       "      <th>Name</th>\n",
       "      <th>Marks</th>\n",
       "      <th>Age</th>\n",
       "      <th>City</th>\n",
       "    </tr>\n",
       "  </thead>\n",
       "  <tbody>\n",
       "    <tr>\n",
       "      <th>A</th>\n",
       "      <td>Krishna</td>\n",
       "      <td>33.0</td>\n",
       "      <td>24.0</td>\n",
       "      <td>Patna</td>\n",
       "    </tr>\n",
       "    <tr>\n",
       "      <th>B</th>\n",
       "      <td>Omi</td>\n",
       "      <td>99.0</td>\n",
       "      <td>21.0</td>\n",
       "      <td>Siwan</td>\n",
       "    </tr>\n",
       "  </tbody>\n",
       "</table>\n",
       "</div>"
      ],
      "text/plain": [
       "      Name  Marks   Age   City\n",
       "A  Krishna   33.0  24.0  Patna\n",
       "B      Omi   99.0  21.0  Siwan"
      ]
     },
     "execution_count": 70,
     "metadata": {},
     "output_type": "execute_result"
    }
   ],
   "source": [
    "df.loc[['A', 'B'],:]"
   ]
  },
  {
   "cell_type": "code",
   "execution_count": 71,
   "id": "9a4f06a4-9362-4a34-82d3-eef19593c58a",
   "metadata": {},
   "outputs": [
    {
     "data": {
      "text/html": [
       "<div>\n",
       "<style scoped>\n",
       "    .dataframe tbody tr th:only-of-type {\n",
       "        vertical-align: middle;\n",
       "    }\n",
       "\n",
       "    .dataframe tbody tr th {\n",
       "        vertical-align: top;\n",
       "    }\n",
       "\n",
       "    .dataframe thead th {\n",
       "        text-align: right;\n",
       "    }\n",
       "</style>\n",
       "<table border=\"1\" class=\"dataframe\">\n",
       "  <thead>\n",
       "    <tr style=\"text-align: right;\">\n",
       "      <th></th>\n",
       "      <th>Name</th>\n",
       "      <th>Marks</th>\n",
       "      <th>Age</th>\n",
       "      <th>City</th>\n",
       "    </tr>\n",
       "  </thead>\n",
       "  <tbody>\n",
       "    <tr>\n",
       "      <th>B</th>\n",
       "      <td>Omi</td>\n",
       "      <td>99.0</td>\n",
       "      <td>21.0</td>\n",
       "      <td>Siwan</td>\n",
       "    </tr>\n",
       "    <tr>\n",
       "      <th>C</th>\n",
       "      <td>Mukul</td>\n",
       "      <td>95.0</td>\n",
       "      <td>24.0</td>\n",
       "      <td>Varanasi</td>\n",
       "    </tr>\n",
       "    <tr>\n",
       "      <th>D</th>\n",
       "      <td>Aditi</td>\n",
       "      <td>85.0</td>\n",
       "      <td>21.0</td>\n",
       "      <td>Ranchi</td>\n",
       "    </tr>\n",
       "  </tbody>\n",
       "</table>\n",
       "</div>"
      ],
      "text/plain": [
       "    Name  Marks   Age      City\n",
       "B    Omi   99.0  21.0     Siwan\n",
       "C  Mukul   95.0  24.0  Varanasi\n",
       "D  Aditi   85.0  21.0    Ranchi"
      ]
     },
     "execution_count": 71,
     "metadata": {},
     "output_type": "execute_result"
    }
   ],
   "source": [
    "df.loc[(df['Marks']>80)]"
   ]
  },
  {
   "cell_type": "code",
   "execution_count": 72,
   "id": "30618814",
   "metadata": {},
   "outputs": [
    {
     "data": {
      "text/html": [
       "<div>\n",
       "<style scoped>\n",
       "    .dataframe tbody tr th:only-of-type {\n",
       "        vertical-align: middle;\n",
       "    }\n",
       "\n",
       "    .dataframe tbody tr th {\n",
       "        vertical-align: top;\n",
       "    }\n",
       "\n",
       "    .dataframe thead th {\n",
       "        text-align: right;\n",
       "    }\n",
       "</style>\n",
       "<table border=\"1\" class=\"dataframe\">\n",
       "  <thead>\n",
       "    <tr style=\"text-align: right;\">\n",
       "      <th></th>\n",
       "      <th>Name</th>\n",
       "      <th>Marks</th>\n",
       "      <th>Age</th>\n",
       "      <th>City</th>\n",
       "    </tr>\n",
       "  </thead>\n",
       "  <tbody>\n",
       "    <tr>\n",
       "      <th>B</th>\n",
       "      <td>Omi</td>\n",
       "      <td>99.0</td>\n",
       "      <td>21.0</td>\n",
       "      <td>Siwan</td>\n",
       "    </tr>\n",
       "    <tr>\n",
       "      <th>D</th>\n",
       "      <td>Aditi</td>\n",
       "      <td>85.0</td>\n",
       "      <td>21.0</td>\n",
       "      <td>Ranchi</td>\n",
       "    </tr>\n",
       "  </tbody>\n",
       "</table>\n",
       "</div>"
      ],
      "text/plain": [
       "    Name  Marks   Age    City\n",
       "B    Omi   99.0  21.0   Siwan\n",
       "D  Aditi   85.0  21.0  Ranchi"
      ]
     },
     "execution_count": 72,
     "metadata": {},
     "output_type": "execute_result"
    }
   ],
   "source": [
    "df.loc[(df['Marks']>80) & (df['Age']<24)]"
   ]
  },
  {
   "cell_type": "markdown",
   "id": "b5a1cdd7-323d-4f85-9ab2-76c9e250121a",
   "metadata": {},
   "source": [
    "***iloc : It is another powerful tool in Pandas for integer-based indexing. It allows you to select data from a Dataframe using row and column indices, providing a more direct way to access data based on its position.***"
   ]
  },
  {
   "cell_type": "code",
   "execution_count": 74,
   "id": "372bc95f-7f4d-4bc9-830f-1bbbfaf6a32e",
   "metadata": {},
   "outputs": [
    {
     "data": {
      "text/html": [
       "<div>\n",
       "<style scoped>\n",
       "    .dataframe tbody tr th:only-of-type {\n",
       "        vertical-align: middle;\n",
       "    }\n",
       "\n",
       "    .dataframe tbody tr th {\n",
       "        vertical-align: top;\n",
       "    }\n",
       "\n",
       "    .dataframe thead th {\n",
       "        text-align: right;\n",
       "    }\n",
       "</style>\n",
       "<table border=\"1\" class=\"dataframe\">\n",
       "  <thead>\n",
       "    <tr style=\"text-align: right;\">\n",
       "      <th></th>\n",
       "      <th>Name</th>\n",
       "      <th>Marks</th>\n",
       "      <th>Age</th>\n",
       "      <th>City</th>\n",
       "    </tr>\n",
       "  </thead>\n",
       "  <tbody>\n",
       "    <tr>\n",
       "      <th>A</th>\n",
       "      <td>Krishna</td>\n",
       "      <td>33.0</td>\n",
       "      <td>24.0</td>\n",
       "      <td>Patna</td>\n",
       "    </tr>\n",
       "    <tr>\n",
       "      <th>B</th>\n",
       "      <td>Omi</td>\n",
       "      <td>99.0</td>\n",
       "      <td>21.0</td>\n",
       "      <td>Siwan</td>\n",
       "    </tr>\n",
       "    <tr>\n",
       "      <th>C</th>\n",
       "      <td>Mukul</td>\n",
       "      <td>95.0</td>\n",
       "      <td>24.0</td>\n",
       "      <td>Varanasi</td>\n",
       "    </tr>\n",
       "    <tr>\n",
       "      <th>D</th>\n",
       "      <td>Aditi</td>\n",
       "      <td>85.0</td>\n",
       "      <td>21.0</td>\n",
       "      <td>Ranchi</td>\n",
       "    </tr>\n",
       "    <tr>\n",
       "      <th>E</th>\n",
       "      <td>Manish</td>\n",
       "      <td>70.0</td>\n",
       "      <td>23.0</td>\n",
       "      <td>Jamshedpur</td>\n",
       "    </tr>\n",
       "    <tr>\n",
       "      <th>F</th>\n",
       "      <td>Aditya</td>\n",
       "      <td>80.0</td>\n",
       "      <td>25.0</td>\n",
       "      <td>Bhopal</td>\n",
       "    </tr>\n",
       "  </tbody>\n",
       "</table>\n",
       "</div>"
      ],
      "text/plain": [
       "      Name  Marks   Age        City\n",
       "A  Krishna   33.0  24.0       Patna\n",
       "B      Omi   99.0  21.0       Siwan\n",
       "C    Mukul   95.0  24.0    Varanasi\n",
       "D    Aditi   85.0  21.0      Ranchi\n",
       "E   Manish   70.0  23.0  Jamshedpur\n",
       "F   Aditya   80.0  25.0      Bhopal"
      ]
     },
     "execution_count": 74,
     "metadata": {},
     "output_type": "execute_result"
    }
   ],
   "source": [
    "df"
   ]
  },
  {
   "cell_type": "code",
   "execution_count": 75,
   "id": "13cd2435-9742-4772-8449-3835cf95ff61",
   "metadata": {},
   "outputs": [
    {
     "data": {
      "text/plain": [
       "'Krishna'"
      ]
     },
     "execution_count": 75,
     "metadata": {},
     "output_type": "execute_result"
    }
   ],
   "source": [
    "df.iloc[0,0]"
   ]
  },
  {
   "cell_type": "code",
   "execution_count": 76,
   "id": "77e2d9d0-8c09-4687-b48b-5aa2d591d09c",
   "metadata": {},
   "outputs": [],
   "source": [
    "df.iloc[0,1] = 90"
   ]
  },
  {
   "cell_type": "code",
   "execution_count": 77,
   "id": "5cb278a9-fd0d-4971-897a-5bc903856c1f",
   "metadata": {},
   "outputs": [
    {
     "data": {
      "text/html": [
       "<div>\n",
       "<style scoped>\n",
       "    .dataframe tbody tr th:only-of-type {\n",
       "        vertical-align: middle;\n",
       "    }\n",
       "\n",
       "    .dataframe tbody tr th {\n",
       "        vertical-align: top;\n",
       "    }\n",
       "\n",
       "    .dataframe thead th {\n",
       "        text-align: right;\n",
       "    }\n",
       "</style>\n",
       "<table border=\"1\" class=\"dataframe\">\n",
       "  <thead>\n",
       "    <tr style=\"text-align: right;\">\n",
       "      <th></th>\n",
       "      <th>Name</th>\n",
       "      <th>Marks</th>\n",
       "      <th>Age</th>\n",
       "      <th>City</th>\n",
       "    </tr>\n",
       "  </thead>\n",
       "  <tbody>\n",
       "    <tr>\n",
       "      <th>A</th>\n",
       "      <td>Krishna</td>\n",
       "      <td>90.0</td>\n",
       "      <td>24.0</td>\n",
       "      <td>Patna</td>\n",
       "    </tr>\n",
       "    <tr>\n",
       "      <th>B</th>\n",
       "      <td>Omi</td>\n",
       "      <td>99.0</td>\n",
       "      <td>21.0</td>\n",
       "      <td>Siwan</td>\n",
       "    </tr>\n",
       "    <tr>\n",
       "      <th>C</th>\n",
       "      <td>Mukul</td>\n",
       "      <td>95.0</td>\n",
       "      <td>24.0</td>\n",
       "      <td>Varanasi</td>\n",
       "    </tr>\n",
       "    <tr>\n",
       "      <th>D</th>\n",
       "      <td>Aditi</td>\n",
       "      <td>85.0</td>\n",
       "      <td>21.0</td>\n",
       "      <td>Ranchi</td>\n",
       "    </tr>\n",
       "    <tr>\n",
       "      <th>E</th>\n",
       "      <td>Manish</td>\n",
       "      <td>70.0</td>\n",
       "      <td>23.0</td>\n",
       "      <td>Jamshedpur</td>\n",
       "    </tr>\n",
       "    <tr>\n",
       "      <th>F</th>\n",
       "      <td>Aditya</td>\n",
       "      <td>80.0</td>\n",
       "      <td>25.0</td>\n",
       "      <td>Bhopal</td>\n",
       "    </tr>\n",
       "  </tbody>\n",
       "</table>\n",
       "</div>"
      ],
      "text/plain": [
       "      Name  Marks   Age        City\n",
       "A  Krishna   90.0  24.0       Patna\n",
       "B      Omi   99.0  21.0       Siwan\n",
       "C    Mukul   95.0  24.0    Varanasi\n",
       "D    Aditi   85.0  21.0      Ranchi\n",
       "E   Manish   70.0  23.0  Jamshedpur\n",
       "F   Aditya   80.0  25.0      Bhopal"
      ]
     },
     "execution_count": 77,
     "metadata": {},
     "output_type": "execute_result"
    }
   ],
   "source": [
    "df"
   ]
  },
  {
   "cell_type": "code",
   "execution_count": 78,
   "id": "c0dd7af0-2be6-42ec-8564-42a12c6afb01",
   "metadata": {},
   "outputs": [
    {
     "data": {
      "text/html": [
       "<div>\n",
       "<style scoped>\n",
       "    .dataframe tbody tr th:only-of-type {\n",
       "        vertical-align: middle;\n",
       "    }\n",
       "\n",
       "    .dataframe tbody tr th {\n",
       "        vertical-align: top;\n",
       "    }\n",
       "\n",
       "    .dataframe thead th {\n",
       "        text-align: right;\n",
       "    }\n",
       "</style>\n",
       "<table border=\"1\" class=\"dataframe\">\n",
       "  <thead>\n",
       "    <tr style=\"text-align: right;\">\n",
       "      <th></th>\n",
       "      <th>Name</th>\n",
       "      <th>City</th>\n",
       "    </tr>\n",
       "  </thead>\n",
       "  <tbody>\n",
       "    <tr>\n",
       "      <th>A</th>\n",
       "      <td>Krishna</td>\n",
       "      <td>Patna</td>\n",
       "    </tr>\n",
       "    <tr>\n",
       "      <th>B</th>\n",
       "      <td>Omi</td>\n",
       "      <td>Siwan</td>\n",
       "    </tr>\n",
       "  </tbody>\n",
       "</table>\n",
       "</div>"
      ],
      "text/plain": [
       "      Name   City\n",
       "A  Krishna  Patna\n",
       "B      Omi  Siwan"
      ]
     },
     "execution_count": 78,
     "metadata": {},
     "output_type": "execute_result"
    }
   ],
   "source": [
    "df.iloc[[0,1],[0,3]]"
   ]
  },
  {
   "cell_type": "markdown",
   "id": "1c4cf4b5-6602-4883-9b9c-baffb54f7056",
   "metadata": {},
   "source": [
    "### Resetting the Indices"
   ]
  },
  {
   "cell_type": "markdown",
   "id": "676bdf41-fa9a-4c40-81c1-e60dc43accc6",
   "metadata": {},
   "source": [
    "***reset_index() : It is a function used to reset the index of a Dataframe, replacing the existing index with a default index starting from 0.***"
   ]
  },
  {
   "cell_type": "markdown",
   "id": "c27c2159-333c-412c-8eab-926f0aa9e26a",
   "metadata": {},
   "source": [
    "***inplace=True : It directly alter the existing Dataframe object rather than creating a new one.***"
   ]
  },
  {
   "cell_type": "code",
   "execution_count": 82,
   "id": "4c67463c-2235-497e-af7c-145786e6744e",
   "metadata": {},
   "outputs": [],
   "source": [
    "df.reset_index(drop=True, inplace=True)"
   ]
  },
  {
   "cell_type": "code",
   "execution_count": 83,
   "id": "422e948c-1cc4-4bae-ae9d-c2ef86c1d9c0",
   "metadata": {},
   "outputs": [
    {
     "data": {
      "text/html": [
       "<div>\n",
       "<style scoped>\n",
       "    .dataframe tbody tr th:only-of-type {\n",
       "        vertical-align: middle;\n",
       "    }\n",
       "\n",
       "    .dataframe tbody tr th {\n",
       "        vertical-align: top;\n",
       "    }\n",
       "\n",
       "    .dataframe thead th {\n",
       "        text-align: right;\n",
       "    }\n",
       "</style>\n",
       "<table border=\"1\" class=\"dataframe\">\n",
       "  <thead>\n",
       "    <tr style=\"text-align: right;\">\n",
       "      <th></th>\n",
       "      <th>Name</th>\n",
       "      <th>Marks</th>\n",
       "      <th>Age</th>\n",
       "      <th>City</th>\n",
       "    </tr>\n",
       "  </thead>\n",
       "  <tbody>\n",
       "    <tr>\n",
       "      <th>0</th>\n",
       "      <td>Krishna</td>\n",
       "      <td>90.0</td>\n",
       "      <td>24.0</td>\n",
       "      <td>Patna</td>\n",
       "    </tr>\n",
       "    <tr>\n",
       "      <th>1</th>\n",
       "      <td>Omi</td>\n",
       "      <td>99.0</td>\n",
       "      <td>21.0</td>\n",
       "      <td>Siwan</td>\n",
       "    </tr>\n",
       "    <tr>\n",
       "      <th>2</th>\n",
       "      <td>Mukul</td>\n",
       "      <td>95.0</td>\n",
       "      <td>24.0</td>\n",
       "      <td>Varanasi</td>\n",
       "    </tr>\n",
       "    <tr>\n",
       "      <th>3</th>\n",
       "      <td>Aditi</td>\n",
       "      <td>85.0</td>\n",
       "      <td>21.0</td>\n",
       "      <td>Ranchi</td>\n",
       "    </tr>\n",
       "    <tr>\n",
       "      <th>4</th>\n",
       "      <td>Manish</td>\n",
       "      <td>70.0</td>\n",
       "      <td>23.0</td>\n",
       "      <td>Jamshedpur</td>\n",
       "    </tr>\n",
       "    <tr>\n",
       "      <th>5</th>\n",
       "      <td>Aditya</td>\n",
       "      <td>80.0</td>\n",
       "      <td>25.0</td>\n",
       "      <td>Bhopal</td>\n",
       "    </tr>\n",
       "  </tbody>\n",
       "</table>\n",
       "</div>"
      ],
      "text/plain": [
       "      Name  Marks   Age        City\n",
       "0  Krishna   90.0  24.0       Patna\n",
       "1      Omi   99.0  21.0       Siwan\n",
       "2    Mukul   95.0  24.0    Varanasi\n",
       "3    Aditi   85.0  21.0      Ranchi\n",
       "4   Manish   70.0  23.0  Jamshedpur\n",
       "5   Aditya   80.0  25.0      Bhopal"
      ]
     },
     "execution_count": 83,
     "metadata": {},
     "output_type": "execute_result"
    }
   ],
   "source": [
    "df"
   ]
  },
  {
   "cell_type": "markdown",
   "id": "6cbb7297-dec5-4d92-acff-3d24a19f996e",
   "metadata": {},
   "source": [
    "### Read CSV file"
   ]
  },
  {
   "cell_type": "markdown",
   "id": "69055d3a-23f8-41d9-a7b4-91e57f3c60fd",
   "metadata": {},
   "source": [
    "***read_csv() : It is a powerful function used to read CSV files into a Pandas Dataframe.***"
   ]
  },
  {
   "cell_type": "code",
   "execution_count": 86,
   "id": "a478e49b-faab-449e-a595-a21ee327e8e6",
   "metadata": {},
   "outputs": [],
   "source": [
    "salary = pd.read_csv('salary.csv')"
   ]
  },
  {
   "cell_type": "code",
   "execution_count": 87,
   "id": "54bd9fdb-58a7-452b-8cc2-560b384afcfe",
   "metadata": {},
   "outputs": [
    {
     "data": {
      "text/html": [
       "<div>\n",
       "<style scoped>\n",
       "    .dataframe tbody tr th:only-of-type {\n",
       "        vertical-align: middle;\n",
       "    }\n",
       "\n",
       "    .dataframe tbody tr th {\n",
       "        vertical-align: top;\n",
       "    }\n",
       "\n",
       "    .dataframe thead th {\n",
       "        text-align: right;\n",
       "    }\n",
       "</style>\n",
       "<table border=\"1\" class=\"dataframe\">\n",
       "  <thead>\n",
       "    <tr style=\"text-align: right;\">\n",
       "      <th></th>\n",
       "      <th>First Name</th>\n",
       "      <th>Last Name</th>\n",
       "      <th>Department</th>\n",
       "      <th>Salary</th>\n",
       "      <th>City</th>\n",
       "    </tr>\n",
       "  </thead>\n",
       "  <tbody>\n",
       "    <tr>\n",
       "      <th>0</th>\n",
       "      <td>Aditi</td>\n",
       "      <td>Prasad</td>\n",
       "      <td>Data Science</td>\n",
       "      <td>60000</td>\n",
       "      <td>Ranchi</td>\n",
       "    </tr>\n",
       "    <tr>\n",
       "      <th>1</th>\n",
       "      <td>Mukul</td>\n",
       "      <td>Mishra</td>\n",
       "      <td>Software Developer</td>\n",
       "      <td>80000</td>\n",
       "      <td>Siwan</td>\n",
       "    </tr>\n",
       "    <tr>\n",
       "      <th>2</th>\n",
       "      <td>Dheeraj</td>\n",
       "      <td>Sharma</td>\n",
       "      <td>Java Developer</td>\n",
       "      <td>50000</td>\n",
       "      <td>Guwhati</td>\n",
       "    </tr>\n",
       "    <tr>\n",
       "      <th>3</th>\n",
       "      <td>Jatin</td>\n",
       "      <td>Prashant</td>\n",
       "      <td>Machine Learning</td>\n",
       "      <td>85000</td>\n",
       "      <td>Banglore</td>\n",
       "    </tr>\n",
       "    <tr>\n",
       "      <th>4</th>\n",
       "      <td>Mahak</td>\n",
       "      <td>Gupta</td>\n",
       "      <td>Java Developer</td>\n",
       "      <td>40000</td>\n",
       "      <td>Banglore</td>\n",
       "    </tr>\n",
       "    <tr>\n",
       "      <th>5</th>\n",
       "      <td>Omi</td>\n",
       "      <td>Singh</td>\n",
       "      <td>Artificial Intelligence</td>\n",
       "      <td>100000</td>\n",
       "      <td>Siwan</td>\n",
       "    </tr>\n",
       "  </tbody>\n",
       "</table>\n",
       "</div>"
      ],
      "text/plain": [
       "  First Name Last Name               Department  Salary      City\n",
       "0      Aditi    Prasad             Data Science   60000    Ranchi\n",
       "1     Mukul     Mishra       Software Developer   80000     Siwan\n",
       "2    Dheeraj    Sharma           Java Developer   50000   Guwhati\n",
       "3     Jatin   Prashant         Machine Learning   85000  Banglore\n",
       "4      Mahak     Gupta           Java Developer   40000  Banglore\n",
       "5        Omi     Singh  Artificial Intelligence  100000     Siwan"
      ]
     },
     "execution_count": 87,
     "metadata": {},
     "output_type": "execute_result"
    }
   ],
   "source": [
    "salary"
   ]
  },
  {
   "cell_type": "code",
   "execution_count": 88,
   "id": "266fee6c-6559-47a9-b15a-8c60f4532533",
   "metadata": {},
   "outputs": [
    {
     "data": {
      "text/plain": [
       "'Siwan'"
      ]
     },
     "execution_count": 88,
     "metadata": {},
     "output_type": "execute_result"
    }
   ],
   "source": [
    "salary['City'][1]"
   ]
  },
  {
   "cell_type": "code",
   "execution_count": 89,
   "id": "b0669a40-e914-4c6b-b679-c32315e13fa1",
   "metadata": {},
   "outputs": [
    {
     "name": "stderr",
     "output_type": "stream",
     "text": [
      "C:\\Users\\mysel\\AppData\\Local\\Temp\\ipykernel_13316\\3037455126.py:1: FutureWarning: ChainedAssignmentError: behaviour will change in pandas 3.0!\n",
      "You are setting values through chained assignment. Currently this works in certain cases, but when using Copy-on-Write (which will become the default behaviour in pandas 3.0) this will never work to update the original DataFrame or Series, because the intermediate object on which we are setting values will behave as a copy.\n",
      "A typical example is when you are setting values in a column of a DataFrame, like:\n",
      "\n",
      "df[\"col\"][row_indexer] = value\n",
      "\n",
      "Use `df.loc[row_indexer, \"col\"] = values` instead, to perform the assignment in a single step and ensure this keeps updating the original `df`.\n",
      "\n",
      "See the caveats in the documentation: https://pandas.pydata.org/pandas-docs/stable/user_guide/indexing.html#returning-a-view-versus-a-copy\n",
      "\n",
      "  salary['City'][1] = 'Varanasi'\n",
      "C:\\Users\\mysel\\AppData\\Local\\Temp\\ipykernel_13316\\3037455126.py:1: SettingWithCopyWarning: \n",
      "A value is trying to be set on a copy of a slice from a DataFrame\n",
      "\n",
      "See the caveats in the documentation: https://pandas.pydata.org/pandas-docs/stable/user_guide/indexing.html#returning-a-view-versus-a-copy\n",
      "  salary['City'][1] = 'Varanasi'\n"
     ]
    }
   ],
   "source": [
    "salary['City'][1] = 'Varanasi'"
   ]
  },
  {
   "cell_type": "code",
   "execution_count": 90,
   "id": "ac1ea733-0e40-496a-8849-9994ae9d3e95",
   "metadata": {},
   "outputs": [
    {
     "data": {
      "text/html": [
       "<div>\n",
       "<style scoped>\n",
       "    .dataframe tbody tr th:only-of-type {\n",
       "        vertical-align: middle;\n",
       "    }\n",
       "\n",
       "    .dataframe tbody tr th {\n",
       "        vertical-align: top;\n",
       "    }\n",
       "\n",
       "    .dataframe thead th {\n",
       "        text-align: right;\n",
       "    }\n",
       "</style>\n",
       "<table border=\"1\" class=\"dataframe\">\n",
       "  <thead>\n",
       "    <tr style=\"text-align: right;\">\n",
       "      <th></th>\n",
       "      <th>First Name</th>\n",
       "      <th>Last Name</th>\n",
       "      <th>Department</th>\n",
       "      <th>Salary</th>\n",
       "      <th>City</th>\n",
       "    </tr>\n",
       "  </thead>\n",
       "  <tbody>\n",
       "    <tr>\n",
       "      <th>0</th>\n",
       "      <td>Aditi</td>\n",
       "      <td>Prasad</td>\n",
       "      <td>Data Science</td>\n",
       "      <td>60000</td>\n",
       "      <td>Ranchi</td>\n",
       "    </tr>\n",
       "    <tr>\n",
       "      <th>1</th>\n",
       "      <td>Mukul</td>\n",
       "      <td>Mishra</td>\n",
       "      <td>Software Developer</td>\n",
       "      <td>80000</td>\n",
       "      <td>Varanasi</td>\n",
       "    </tr>\n",
       "    <tr>\n",
       "      <th>2</th>\n",
       "      <td>Dheeraj</td>\n",
       "      <td>Sharma</td>\n",
       "      <td>Java Developer</td>\n",
       "      <td>50000</td>\n",
       "      <td>Guwhati</td>\n",
       "    </tr>\n",
       "    <tr>\n",
       "      <th>3</th>\n",
       "      <td>Jatin</td>\n",
       "      <td>Prashant</td>\n",
       "      <td>Machine Learning</td>\n",
       "      <td>85000</td>\n",
       "      <td>Banglore</td>\n",
       "    </tr>\n",
       "    <tr>\n",
       "      <th>4</th>\n",
       "      <td>Mahak</td>\n",
       "      <td>Gupta</td>\n",
       "      <td>Java Developer</td>\n",
       "      <td>40000</td>\n",
       "      <td>Banglore</td>\n",
       "    </tr>\n",
       "    <tr>\n",
       "      <th>5</th>\n",
       "      <td>Omi</td>\n",
       "      <td>Singh</td>\n",
       "      <td>Artificial Intelligence</td>\n",
       "      <td>100000</td>\n",
       "      <td>Siwan</td>\n",
       "    </tr>\n",
       "  </tbody>\n",
       "</table>\n",
       "</div>"
      ],
      "text/plain": [
       "  First Name Last Name               Department  Salary      City\n",
       "0      Aditi    Prasad             Data Science   60000    Ranchi\n",
       "1     Mukul     Mishra       Software Developer   80000  Varanasi\n",
       "2    Dheeraj    Sharma           Java Developer   50000   Guwhati\n",
       "3     Jatin   Prashant         Machine Learning   85000  Banglore\n",
       "4      Mahak     Gupta           Java Developer   40000  Banglore\n",
       "5        Omi     Singh  Artificial Intelligence  100000     Siwan"
      ]
     },
     "execution_count": 90,
     "metadata": {},
     "output_type": "execute_result"
    }
   ],
   "source": [
    "salary"
   ]
  },
  {
   "cell_type": "markdown",
   "id": "f2a7bfe8-5d70-4234-87c6-5b3b023d655a",
   "metadata": {},
   "source": [
    "***sort_index() : It is a function used to sort the rows of a Dataframe or Series based on thier index labels.***"
   ]
  },
  {
   "cell_type": "code",
   "execution_count": 92,
   "id": "dcdfabd1-7e03-49b5-85f1-6db30a3e3ae6",
   "metadata": {},
   "outputs": [
    {
     "data": {
      "text/html": [
       "<div>\n",
       "<style scoped>\n",
       "    .dataframe tbody tr th:only-of-type {\n",
       "        vertical-align: middle;\n",
       "    }\n",
       "\n",
       "    .dataframe tbody tr th {\n",
       "        vertical-align: top;\n",
       "    }\n",
       "\n",
       "    .dataframe thead th {\n",
       "        text-align: right;\n",
       "    }\n",
       "</style>\n",
       "<table border=\"1\" class=\"dataframe\">\n",
       "  <thead>\n",
       "    <tr style=\"text-align: right;\">\n",
       "      <th></th>\n",
       "      <th>First Name</th>\n",
       "      <th>Last Name</th>\n",
       "      <th>Department</th>\n",
       "      <th>Salary</th>\n",
       "      <th>City</th>\n",
       "    </tr>\n",
       "  </thead>\n",
       "  <tbody>\n",
       "    <tr>\n",
       "      <th>5</th>\n",
       "      <td>Omi</td>\n",
       "      <td>Singh</td>\n",
       "      <td>Artificial Intelligence</td>\n",
       "      <td>100000</td>\n",
       "      <td>Siwan</td>\n",
       "    </tr>\n",
       "    <tr>\n",
       "      <th>4</th>\n",
       "      <td>Mahak</td>\n",
       "      <td>Gupta</td>\n",
       "      <td>Java Developer</td>\n",
       "      <td>40000</td>\n",
       "      <td>Banglore</td>\n",
       "    </tr>\n",
       "    <tr>\n",
       "      <th>3</th>\n",
       "      <td>Jatin</td>\n",
       "      <td>Prashant</td>\n",
       "      <td>Machine Learning</td>\n",
       "      <td>85000</td>\n",
       "      <td>Banglore</td>\n",
       "    </tr>\n",
       "    <tr>\n",
       "      <th>2</th>\n",
       "      <td>Dheeraj</td>\n",
       "      <td>Sharma</td>\n",
       "      <td>Java Developer</td>\n",
       "      <td>50000</td>\n",
       "      <td>Guwhati</td>\n",
       "    </tr>\n",
       "    <tr>\n",
       "      <th>1</th>\n",
       "      <td>Mukul</td>\n",
       "      <td>Mishra</td>\n",
       "      <td>Software Developer</td>\n",
       "      <td>80000</td>\n",
       "      <td>Varanasi</td>\n",
       "    </tr>\n",
       "    <tr>\n",
       "      <th>0</th>\n",
       "      <td>Aditi</td>\n",
       "      <td>Prasad</td>\n",
       "      <td>Data Science</td>\n",
       "      <td>60000</td>\n",
       "      <td>Ranchi</td>\n",
       "    </tr>\n",
       "  </tbody>\n",
       "</table>\n",
       "</div>"
      ],
      "text/plain": [
       "  First Name Last Name               Department  Salary      City\n",
       "5        Omi     Singh  Artificial Intelligence  100000     Siwan\n",
       "4      Mahak     Gupta           Java Developer   40000  Banglore\n",
       "3     Jatin   Prashant         Machine Learning   85000  Banglore\n",
       "2    Dheeraj    Sharma           Java Developer   50000   Guwhati\n",
       "1     Mukul     Mishra       Software Developer   80000  Varanasi\n",
       "0      Aditi    Prasad             Data Science   60000    Ranchi"
      ]
     },
     "execution_count": 92,
     "metadata": {},
     "output_type": "execute_result"
    }
   ],
   "source": [
    "salary.sort_index(axis=0, ascending=False)"
   ]
  },
  {
   "cell_type": "code",
   "execution_count": 93,
   "id": "51b1f779-71a1-4529-b81f-a24ce179be69",
   "metadata": {},
   "outputs": [
    {
     "data": {
      "text/html": [
       "<div>\n",
       "<style scoped>\n",
       "    .dataframe tbody tr th:only-of-type {\n",
       "        vertical-align: middle;\n",
       "    }\n",
       "\n",
       "    .dataframe tbody tr th {\n",
       "        vertical-align: top;\n",
       "    }\n",
       "\n",
       "    .dataframe thead th {\n",
       "        text-align: right;\n",
       "    }\n",
       "</style>\n",
       "<table border=\"1\" class=\"dataframe\">\n",
       "  <thead>\n",
       "    <tr style=\"text-align: right;\">\n",
       "      <th></th>\n",
       "      <th>Salary</th>\n",
       "      <th>Last Name</th>\n",
       "      <th>First Name</th>\n",
       "      <th>Department</th>\n",
       "      <th>City</th>\n",
       "    </tr>\n",
       "  </thead>\n",
       "  <tbody>\n",
       "    <tr>\n",
       "      <th>0</th>\n",
       "      <td>60000</td>\n",
       "      <td>Prasad</td>\n",
       "      <td>Aditi</td>\n",
       "      <td>Data Science</td>\n",
       "      <td>Ranchi</td>\n",
       "    </tr>\n",
       "    <tr>\n",
       "      <th>1</th>\n",
       "      <td>80000</td>\n",
       "      <td>Mishra</td>\n",
       "      <td>Mukul</td>\n",
       "      <td>Software Developer</td>\n",
       "      <td>Varanasi</td>\n",
       "    </tr>\n",
       "    <tr>\n",
       "      <th>2</th>\n",
       "      <td>50000</td>\n",
       "      <td>Sharma</td>\n",
       "      <td>Dheeraj</td>\n",
       "      <td>Java Developer</td>\n",
       "      <td>Guwhati</td>\n",
       "    </tr>\n",
       "    <tr>\n",
       "      <th>3</th>\n",
       "      <td>85000</td>\n",
       "      <td>Prashant</td>\n",
       "      <td>Jatin</td>\n",
       "      <td>Machine Learning</td>\n",
       "      <td>Banglore</td>\n",
       "    </tr>\n",
       "    <tr>\n",
       "      <th>4</th>\n",
       "      <td>40000</td>\n",
       "      <td>Gupta</td>\n",
       "      <td>Mahak</td>\n",
       "      <td>Java Developer</td>\n",
       "      <td>Banglore</td>\n",
       "    </tr>\n",
       "    <tr>\n",
       "      <th>5</th>\n",
       "      <td>100000</td>\n",
       "      <td>Singh</td>\n",
       "      <td>Omi</td>\n",
       "      <td>Artificial Intelligence</td>\n",
       "      <td>Siwan</td>\n",
       "    </tr>\n",
       "  </tbody>\n",
       "</table>\n",
       "</div>"
      ],
      "text/plain": [
       "   Salary Last Name First Name               Department      City\n",
       "0   60000    Prasad      Aditi             Data Science    Ranchi\n",
       "1   80000    Mishra     Mukul        Software Developer  Varanasi\n",
       "2   50000    Sharma    Dheeraj           Java Developer   Guwhati\n",
       "3   85000  Prashant     Jatin          Machine Learning  Banglore\n",
       "4   40000     Gupta      Mahak           Java Developer  Banglore\n",
       "5  100000     Singh        Omi  Artificial Intelligence     Siwan"
      ]
     },
     "execution_count": 93,
     "metadata": {},
     "output_type": "execute_result"
    }
   ],
   "source": [
    "salary.sort_index(axis=1, ascending=False)"
   ]
  },
  {
   "cell_type": "markdown",
   "id": "e1985a2a-749b-4103-aefe-2953c87ed083",
   "metadata": {},
   "source": [
    "### Creating a Series"
   ]
  },
  {
   "cell_type": "code",
   "execution_count": 95,
   "id": "83c502c5-8ea8-4c6f-ae27-a65cc805f045",
   "metadata": {},
   "outputs": [],
   "source": [
    "ser = pd.Series(np.random.rand(10))"
   ]
  },
  {
   "cell_type": "code",
   "execution_count": 96,
   "id": "0838ee63-36e3-4c9d-8f89-26747a44bacf",
   "metadata": {},
   "outputs": [
    {
     "data": {
      "text/plain": [
       "0    0.641984\n",
       "1    0.773593\n",
       "2    0.174946\n",
       "3    0.172561\n",
       "4    0.157367\n",
       "5    0.310943\n",
       "6    0.378972\n",
       "7    0.891336\n",
       "8    0.808192\n",
       "9    0.546590\n",
       "dtype: float64"
      ]
     },
     "execution_count": 96,
     "metadata": {},
     "output_type": "execute_result"
    }
   ],
   "source": [
    "ser"
   ]
  },
  {
   "cell_type": "code",
   "execution_count": 97,
   "id": "a9a959d5-db56-4b79-8506-c91d0da70ae6",
   "metadata": {},
   "outputs": [
    {
     "data": {
      "text/plain": [
       "pandas.core.series.Series"
      ]
     },
     "execution_count": 97,
     "metadata": {},
     "output_type": "execute_result"
    }
   ],
   "source": [
    "type(ser)"
   ]
  },
  {
   "cell_type": "markdown",
   "id": "ed766643-0265-4529-90d9-b2ca148437f5",
   "metadata": {},
   "source": [
    "### Creating another Dataframe."
   ]
  },
  {
   "cell_type": "code",
   "execution_count": 99,
   "id": "15f66391-573a-4c6f-90d0-7a16eafa7293",
   "metadata": {},
   "outputs": [],
   "source": [
    "dict2 = {\n",
    "    \"id\" : [101, 102, 103, 104],\n",
    "    \"name\" : ['Bob', 'Max', 'Max', 'Smith'],\n",
    "    \"branch\" : ['CSE', 'IT', 'CSE', 'IT'],\n",
    "    \"CGPA\" : [8.15, 8.8, 7.2, 9.0],\n",
    "    \"age\" : [np.nan, 23, 24, np.nan],\n",
    "    \"blood_group\" : ['AB+', np.nan, 'O+', 'O-']\n",
    "}"
   ]
  },
  {
   "cell_type": "code",
   "execution_count": 100,
   "id": "c5e14a53-ec61-4374-af6b-e9b63a072ad5",
   "metadata": {},
   "outputs": [],
   "source": [
    "newdf = pd.DataFrame(dict2)"
   ]
  },
  {
   "cell_type": "code",
   "execution_count": 101,
   "id": "17df27a2-55d9-4da7-be28-fb9ba850b722",
   "metadata": {},
   "outputs": [
    {
     "data": {
      "text/html": [
       "<div>\n",
       "<style scoped>\n",
       "    .dataframe tbody tr th:only-of-type {\n",
       "        vertical-align: middle;\n",
       "    }\n",
       "\n",
       "    .dataframe tbody tr th {\n",
       "        vertical-align: top;\n",
       "    }\n",
       "\n",
       "    .dataframe thead th {\n",
       "        text-align: right;\n",
       "    }\n",
       "</style>\n",
       "<table border=\"1\" class=\"dataframe\">\n",
       "  <thead>\n",
       "    <tr style=\"text-align: right;\">\n",
       "      <th></th>\n",
       "      <th>id</th>\n",
       "      <th>name</th>\n",
       "      <th>branch</th>\n",
       "      <th>CGPA</th>\n",
       "      <th>age</th>\n",
       "      <th>blood_group</th>\n",
       "    </tr>\n",
       "  </thead>\n",
       "  <tbody>\n",
       "    <tr>\n",
       "      <th>0</th>\n",
       "      <td>101</td>\n",
       "      <td>Bob</td>\n",
       "      <td>CSE</td>\n",
       "      <td>8.15</td>\n",
       "      <td>NaN</td>\n",
       "      <td>AB+</td>\n",
       "    </tr>\n",
       "    <tr>\n",
       "      <th>1</th>\n",
       "      <td>102</td>\n",
       "      <td>Max</td>\n",
       "      <td>IT</td>\n",
       "      <td>8.80</td>\n",
       "      <td>23.0</td>\n",
       "      <td>NaN</td>\n",
       "    </tr>\n",
       "    <tr>\n",
       "      <th>2</th>\n",
       "      <td>103</td>\n",
       "      <td>Max</td>\n",
       "      <td>CSE</td>\n",
       "      <td>7.20</td>\n",
       "      <td>24.0</td>\n",
       "      <td>O+</td>\n",
       "    </tr>\n",
       "    <tr>\n",
       "      <th>3</th>\n",
       "      <td>104</td>\n",
       "      <td>Smith</td>\n",
       "      <td>IT</td>\n",
       "      <td>9.00</td>\n",
       "      <td>NaN</td>\n",
       "      <td>O-</td>\n",
       "    </tr>\n",
       "  </tbody>\n",
       "</table>\n",
       "</div>"
      ],
      "text/plain": [
       "    id   name branch  CGPA   age blood_group\n",
       "0  101    Bob    CSE  8.15   NaN         AB+\n",
       "1  102    Max     IT  8.80  23.0         NaN\n",
       "2  103    Max    CSE  7.20  24.0          O+\n",
       "3  104  Smith     IT  9.00   NaN          O-"
      ]
     },
     "execution_count": 101,
     "metadata": {},
     "output_type": "execute_result"
    }
   ],
   "source": [
    "newdf"
   ]
  },
  {
   "cell_type": "markdown",
   "id": "74f4ab18-03ba-42cf-9ba0-f7dafd94ac9b",
   "metadata": {},
   "source": [
    "***notnull() : It is a method used to check for missing values in a Series or Dataframe. It returns a Boolean Series or Dataframe where True indicates that the value is not null and False indicates that the value is null.***"
   ]
  },
  {
   "cell_type": "code",
   "execution_count": 103,
   "id": "782ce922-a808-4fc2-819a-86ddec7f5e1f",
   "metadata": {},
   "outputs": [
    {
     "data": {
      "text/html": [
       "<div>\n",
       "<style scoped>\n",
       "    .dataframe tbody tr th:only-of-type {\n",
       "        vertical-align: middle;\n",
       "    }\n",
       "\n",
       "    .dataframe tbody tr th {\n",
       "        vertical-align: top;\n",
       "    }\n",
       "\n",
       "    .dataframe thead th {\n",
       "        text-align: right;\n",
       "    }\n",
       "</style>\n",
       "<table border=\"1\" class=\"dataframe\">\n",
       "  <thead>\n",
       "    <tr style=\"text-align: right;\">\n",
       "      <th></th>\n",
       "      <th>id</th>\n",
       "      <th>name</th>\n",
       "      <th>branch</th>\n",
       "      <th>CGPA</th>\n",
       "      <th>age</th>\n",
       "      <th>blood_group</th>\n",
       "    </tr>\n",
       "  </thead>\n",
       "  <tbody>\n",
       "    <tr>\n",
       "      <th>0</th>\n",
       "      <td>True</td>\n",
       "      <td>True</td>\n",
       "      <td>True</td>\n",
       "      <td>True</td>\n",
       "      <td>False</td>\n",
       "      <td>True</td>\n",
       "    </tr>\n",
       "    <tr>\n",
       "      <th>1</th>\n",
       "      <td>True</td>\n",
       "      <td>True</td>\n",
       "      <td>True</td>\n",
       "      <td>True</td>\n",
       "      <td>True</td>\n",
       "      <td>False</td>\n",
       "    </tr>\n",
       "    <tr>\n",
       "      <th>2</th>\n",
       "      <td>True</td>\n",
       "      <td>True</td>\n",
       "      <td>True</td>\n",
       "      <td>True</td>\n",
       "      <td>True</td>\n",
       "      <td>True</td>\n",
       "    </tr>\n",
       "    <tr>\n",
       "      <th>3</th>\n",
       "      <td>True</td>\n",
       "      <td>True</td>\n",
       "      <td>True</td>\n",
       "      <td>True</td>\n",
       "      <td>False</td>\n",
       "      <td>True</td>\n",
       "    </tr>\n",
       "  </tbody>\n",
       "</table>\n",
       "</div>"
      ],
      "text/plain": [
       "     id  name  branch  CGPA    age  blood_group\n",
       "0  True  True    True  True  False         True\n",
       "1  True  True    True  True   True        False\n",
       "2  True  True    True  True   True         True\n",
       "3  True  True    True  True  False         True"
      ]
     },
     "execution_count": 103,
     "metadata": {},
     "output_type": "execute_result"
    }
   ],
   "source": [
    "newdf.notnull()"
   ]
  },
  {
   "cell_type": "markdown",
   "id": "179540ec-f344-4e41-b42a-66fc1cc9efdb",
   "metadata": {},
   "source": [
    "***None : It is a special value used to represent missing data or null values.***"
   ]
  },
  {
   "cell_type": "code",
   "execution_count": 105,
   "id": "947e2d24-57b0-4418-ba99-821d5506b092",
   "metadata": {},
   "outputs": [],
   "source": [
    "newdf['blood_group'] = None"
   ]
  },
  {
   "cell_type": "code",
   "execution_count": 106,
   "id": "64746fea-316f-4a7f-ad79-39eb27788952",
   "metadata": {},
   "outputs": [
    {
     "data": {
      "text/html": [
       "<div>\n",
       "<style scoped>\n",
       "    .dataframe tbody tr th:only-of-type {\n",
       "        vertical-align: middle;\n",
       "    }\n",
       "\n",
       "    .dataframe tbody tr th {\n",
       "        vertical-align: top;\n",
       "    }\n",
       "\n",
       "    .dataframe thead th {\n",
       "        text-align: right;\n",
       "    }\n",
       "</style>\n",
       "<table border=\"1\" class=\"dataframe\">\n",
       "  <thead>\n",
       "    <tr style=\"text-align: right;\">\n",
       "      <th></th>\n",
       "      <th>id</th>\n",
       "      <th>name</th>\n",
       "      <th>branch</th>\n",
       "      <th>CGPA</th>\n",
       "      <th>age</th>\n",
       "      <th>blood_group</th>\n",
       "    </tr>\n",
       "  </thead>\n",
       "  <tbody>\n",
       "    <tr>\n",
       "      <th>0</th>\n",
       "      <td>101</td>\n",
       "      <td>Bob</td>\n",
       "      <td>CSE</td>\n",
       "      <td>8.15</td>\n",
       "      <td>NaN</td>\n",
       "      <td>None</td>\n",
       "    </tr>\n",
       "    <tr>\n",
       "      <th>1</th>\n",
       "      <td>102</td>\n",
       "      <td>Max</td>\n",
       "      <td>IT</td>\n",
       "      <td>8.80</td>\n",
       "      <td>23.0</td>\n",
       "      <td>None</td>\n",
       "    </tr>\n",
       "    <tr>\n",
       "      <th>2</th>\n",
       "      <td>103</td>\n",
       "      <td>Max</td>\n",
       "      <td>CSE</td>\n",
       "      <td>7.20</td>\n",
       "      <td>24.0</td>\n",
       "      <td>None</td>\n",
       "    </tr>\n",
       "    <tr>\n",
       "      <th>3</th>\n",
       "      <td>104</td>\n",
       "      <td>Smith</td>\n",
       "      <td>IT</td>\n",
       "      <td>9.00</td>\n",
       "      <td>NaN</td>\n",
       "      <td>None</td>\n",
       "    </tr>\n",
       "  </tbody>\n",
       "</table>\n",
       "</div>"
      ],
      "text/plain": [
       "    id   name branch  CGPA   age blood_group\n",
       "0  101    Bob    CSE  8.15   NaN        None\n",
       "1  102    Max     IT  8.80  23.0        None\n",
       "2  103    Max    CSE  7.20  24.0        None\n",
       "3  104  Smith     IT  9.00   NaN        None"
      ]
     },
     "execution_count": 106,
     "metadata": {},
     "output_type": "execute_result"
    }
   ],
   "source": [
    "newdf"
   ]
  },
  {
   "cell_type": "markdown",
   "id": "a33d19aa-4c02-42ca-9d3d-96d4ba61a45f",
   "metadata": {},
   "source": [
    "***is_null() or is_na() : is_null() or is_na() are two equivalent methods in Pandas used to check for missing values in a Dataframe. It returns a Boolean mask indicating which values are null (True) or not null (False).***"
   ]
  },
  {
   "cell_type": "code",
   "execution_count": 108,
   "id": "b212be68-f12f-43f8-ae63-5453243df07b",
   "metadata": {},
   "outputs": [
    {
     "data": {
      "text/html": [
       "<div>\n",
       "<style scoped>\n",
       "    .dataframe tbody tr th:only-of-type {\n",
       "        vertical-align: middle;\n",
       "    }\n",
       "\n",
       "    .dataframe tbody tr th {\n",
       "        vertical-align: top;\n",
       "    }\n",
       "\n",
       "    .dataframe thead th {\n",
       "        text-align: right;\n",
       "    }\n",
       "</style>\n",
       "<table border=\"1\" class=\"dataframe\">\n",
       "  <thead>\n",
       "    <tr style=\"text-align: right;\">\n",
       "      <th></th>\n",
       "      <th>id</th>\n",
       "      <th>name</th>\n",
       "      <th>branch</th>\n",
       "      <th>CGPA</th>\n",
       "      <th>age</th>\n",
       "      <th>blood_group</th>\n",
       "    </tr>\n",
       "  </thead>\n",
       "  <tbody>\n",
       "    <tr>\n",
       "      <th>0</th>\n",
       "      <td>False</td>\n",
       "      <td>False</td>\n",
       "      <td>False</td>\n",
       "      <td>False</td>\n",
       "      <td>True</td>\n",
       "      <td>True</td>\n",
       "    </tr>\n",
       "    <tr>\n",
       "      <th>1</th>\n",
       "      <td>False</td>\n",
       "      <td>False</td>\n",
       "      <td>False</td>\n",
       "      <td>False</td>\n",
       "      <td>False</td>\n",
       "      <td>True</td>\n",
       "    </tr>\n",
       "    <tr>\n",
       "      <th>2</th>\n",
       "      <td>False</td>\n",
       "      <td>False</td>\n",
       "      <td>False</td>\n",
       "      <td>False</td>\n",
       "      <td>False</td>\n",
       "      <td>True</td>\n",
       "    </tr>\n",
       "    <tr>\n",
       "      <th>3</th>\n",
       "      <td>False</td>\n",
       "      <td>False</td>\n",
       "      <td>False</td>\n",
       "      <td>False</td>\n",
       "      <td>True</td>\n",
       "      <td>True</td>\n",
       "    </tr>\n",
       "  </tbody>\n",
       "</table>\n",
       "</div>"
      ],
      "text/plain": [
       "      id   name  branch   CGPA    age  blood_group\n",
       "0  False  False   False  False   True         True\n",
       "1  False  False   False  False  False         True\n",
       "2  False  False   False  False  False         True\n",
       "3  False  False   False  False   True         True"
      ]
     },
     "execution_count": 108,
     "metadata": {},
     "output_type": "execute_result"
    }
   ],
   "source": [
    "newdf.isnull()"
   ]
  },
  {
   "cell_type": "code",
   "execution_count": 109,
   "id": "b6defbce-3c4e-4dac-ba09-08d1a886850e",
   "metadata": {},
   "outputs": [
    {
     "data": {
      "text/html": [
       "<div>\n",
       "<style scoped>\n",
       "    .dataframe tbody tr th:only-of-type {\n",
       "        vertical-align: middle;\n",
       "    }\n",
       "\n",
       "    .dataframe tbody tr th {\n",
       "        vertical-align: top;\n",
       "    }\n",
       "\n",
       "    .dataframe thead th {\n",
       "        text-align: right;\n",
       "    }\n",
       "</style>\n",
       "<table border=\"1\" class=\"dataframe\">\n",
       "  <thead>\n",
       "    <tr style=\"text-align: right;\">\n",
       "      <th></th>\n",
       "      <th>id</th>\n",
       "      <th>name</th>\n",
       "      <th>branch</th>\n",
       "      <th>CGPA</th>\n",
       "      <th>age</th>\n",
       "      <th>blood_group</th>\n",
       "    </tr>\n",
       "  </thead>\n",
       "  <tbody>\n",
       "    <tr>\n",
       "      <th>0</th>\n",
       "      <td>101</td>\n",
       "      <td>Bob</td>\n",
       "      <td>CSE</td>\n",
       "      <td>8.15</td>\n",
       "      <td>NaN</td>\n",
       "      <td>None</td>\n",
       "    </tr>\n",
       "    <tr>\n",
       "      <th>1</th>\n",
       "      <td>102</td>\n",
       "      <td>Max</td>\n",
       "      <td>IT</td>\n",
       "      <td>8.80</td>\n",
       "      <td>23.0</td>\n",
       "      <td>None</td>\n",
       "    </tr>\n",
       "    <tr>\n",
       "      <th>2</th>\n",
       "      <td>103</td>\n",
       "      <td>Max</td>\n",
       "      <td>CSE</td>\n",
       "      <td>7.20</td>\n",
       "      <td>24.0</td>\n",
       "      <td>None</td>\n",
       "    </tr>\n",
       "    <tr>\n",
       "      <th>3</th>\n",
       "      <td>104</td>\n",
       "      <td>Smith</td>\n",
       "      <td>IT</td>\n",
       "      <td>9.00</td>\n",
       "      <td>NaN</td>\n",
       "      <td>None</td>\n",
       "    </tr>\n",
       "  </tbody>\n",
       "</table>\n",
       "</div>"
      ],
      "text/plain": [
       "    id   name branch  CGPA   age blood_group\n",
       "0  101    Bob    CSE  8.15   NaN        None\n",
       "1  102    Max     IT  8.80  23.0        None\n",
       "2  103    Max    CSE  7.20  24.0        None\n",
       "3  104  Smith     IT  9.00   NaN        None"
      ]
     },
     "execution_count": 109,
     "metadata": {},
     "output_type": "execute_result"
    }
   ],
   "source": [
    "newdf"
   ]
  },
  {
   "cell_type": "markdown",
   "id": "19f8e3fa-0c01-45fc-ad4f-dc1544d8e286",
   "metadata": {},
   "source": [
    "***dropna() : It is a function in Pandas used to remove rows or columns containing missing values.***\n",
    "\n",
    "+ **Dropping rows with missing values :** df.dropna()\n",
    "+ **Dropping columns with missing values :** df.dropna(axis=1)"
   ]
  },
  {
   "cell_type": "code",
   "execution_count": 111,
   "id": "b3a3dc13-220b-4979-bd1c-4b4733654e5b",
   "metadata": {},
   "outputs": [],
   "source": [
    "newdf.dropna(how='all', axis=1, inplace=True)"
   ]
  },
  {
   "cell_type": "code",
   "execution_count": 112,
   "id": "33e7d5f6-598c-456d-be6e-4edecf7066ce",
   "metadata": {},
   "outputs": [
    {
     "data": {
      "text/html": [
       "<div>\n",
       "<style scoped>\n",
       "    .dataframe tbody tr th:only-of-type {\n",
       "        vertical-align: middle;\n",
       "    }\n",
       "\n",
       "    .dataframe tbody tr th {\n",
       "        vertical-align: top;\n",
       "    }\n",
       "\n",
       "    .dataframe thead th {\n",
       "        text-align: right;\n",
       "    }\n",
       "</style>\n",
       "<table border=\"1\" class=\"dataframe\">\n",
       "  <thead>\n",
       "    <tr style=\"text-align: right;\">\n",
       "      <th></th>\n",
       "      <th>id</th>\n",
       "      <th>name</th>\n",
       "      <th>branch</th>\n",
       "      <th>CGPA</th>\n",
       "      <th>age</th>\n",
       "    </tr>\n",
       "  </thead>\n",
       "  <tbody>\n",
       "    <tr>\n",
       "      <th>0</th>\n",
       "      <td>101</td>\n",
       "      <td>Bob</td>\n",
       "      <td>CSE</td>\n",
       "      <td>8.15</td>\n",
       "      <td>NaN</td>\n",
       "    </tr>\n",
       "    <tr>\n",
       "      <th>1</th>\n",
       "      <td>102</td>\n",
       "      <td>Max</td>\n",
       "      <td>IT</td>\n",
       "      <td>8.80</td>\n",
       "      <td>23.0</td>\n",
       "    </tr>\n",
       "    <tr>\n",
       "      <th>2</th>\n",
       "      <td>103</td>\n",
       "      <td>Max</td>\n",
       "      <td>CSE</td>\n",
       "      <td>7.20</td>\n",
       "      <td>24.0</td>\n",
       "    </tr>\n",
       "    <tr>\n",
       "      <th>3</th>\n",
       "      <td>104</td>\n",
       "      <td>Smith</td>\n",
       "      <td>IT</td>\n",
       "      <td>9.00</td>\n",
       "      <td>NaN</td>\n",
       "    </tr>\n",
       "  </tbody>\n",
       "</table>\n",
       "</div>"
      ],
      "text/plain": [
       "    id   name branch  CGPA   age\n",
       "0  101    Bob    CSE  8.15   NaN\n",
       "1  102    Max     IT  8.80  23.0\n",
       "2  103    Max    CSE  7.20  24.0\n",
       "3  104  Smith     IT  9.00   NaN"
      ]
     },
     "execution_count": 112,
     "metadata": {},
     "output_type": "execute_result"
    }
   ],
   "source": [
    "newdf"
   ]
  },
  {
   "cell_type": "code",
   "execution_count": 113,
   "id": "ce8989d2-6d4d-4879-adc5-f77a7f369149",
   "metadata": {},
   "outputs": [
    {
     "data": {
      "text/html": [
       "<div>\n",
       "<style scoped>\n",
       "    .dataframe tbody tr th:only-of-type {\n",
       "        vertical-align: middle;\n",
       "    }\n",
       "\n",
       "    .dataframe tbody tr th {\n",
       "        vertical-align: top;\n",
       "    }\n",
       "\n",
       "    .dataframe thead th {\n",
       "        text-align: right;\n",
       "    }\n",
       "</style>\n",
       "<table border=\"1\" class=\"dataframe\">\n",
       "  <thead>\n",
       "    <tr style=\"text-align: right;\">\n",
       "      <th></th>\n",
       "      <th>id</th>\n",
       "      <th>name</th>\n",
       "      <th>branch</th>\n",
       "      <th>CGPA</th>\n",
       "      <th>age</th>\n",
       "    </tr>\n",
       "  </thead>\n",
       "  <tbody>\n",
       "    <tr>\n",
       "      <th>1</th>\n",
       "      <td>102</td>\n",
       "      <td>Max</td>\n",
       "      <td>IT</td>\n",
       "      <td>8.8</td>\n",
       "      <td>23.0</td>\n",
       "    </tr>\n",
       "    <tr>\n",
       "      <th>2</th>\n",
       "      <td>103</td>\n",
       "      <td>Max</td>\n",
       "      <td>CSE</td>\n",
       "      <td>7.2</td>\n",
       "      <td>24.0</td>\n",
       "    </tr>\n",
       "  </tbody>\n",
       "</table>\n",
       "</div>"
      ],
      "text/plain": [
       "    id name branch  CGPA   age\n",
       "1  102  Max     IT   8.8  23.0\n",
       "2  103  Max    CSE   7.2  24.0"
      ]
     },
     "execution_count": 113,
     "metadata": {},
     "output_type": "execute_result"
    }
   ],
   "source": [
    "newdf.dropna()"
   ]
  },
  {
   "cell_type": "markdown",
   "id": "f5c3c27b-1a42-47e7-b95b-9c65ee47fed5",
   "metadata": {},
   "source": [
    "***drop_duplicates() : It is a function used to remove duplicate rows from a Dataframe. It uses the subset argument to specify which columns for consider***"
   ]
  },
  {
   "cell_type": "code",
   "execution_count": 115,
   "id": "f3438888-99f2-4024-9bdb-9d377f5afe16",
   "metadata": {},
   "outputs": [
    {
     "data": {
      "text/html": [
       "<div>\n",
       "<style scoped>\n",
       "    .dataframe tbody tr th:only-of-type {\n",
       "        vertical-align: middle;\n",
       "    }\n",
       "\n",
       "    .dataframe tbody tr th {\n",
       "        vertical-align: top;\n",
       "    }\n",
       "\n",
       "    .dataframe thead th {\n",
       "        text-align: right;\n",
       "    }\n",
       "</style>\n",
       "<table border=\"1\" class=\"dataframe\">\n",
       "  <thead>\n",
       "    <tr style=\"text-align: right;\">\n",
       "      <th></th>\n",
       "      <th>id</th>\n",
       "      <th>name</th>\n",
       "      <th>branch</th>\n",
       "      <th>CGPA</th>\n",
       "      <th>age</th>\n",
       "    </tr>\n",
       "  </thead>\n",
       "  <tbody>\n",
       "    <tr>\n",
       "      <th>0</th>\n",
       "      <td>101</td>\n",
       "      <td>Bob</td>\n",
       "      <td>CSE</td>\n",
       "      <td>8.15</td>\n",
       "      <td>NaN</td>\n",
       "    </tr>\n",
       "    <tr>\n",
       "      <th>1</th>\n",
       "      <td>102</td>\n",
       "      <td>Max</td>\n",
       "      <td>IT</td>\n",
       "      <td>8.80</td>\n",
       "      <td>23.0</td>\n",
       "    </tr>\n",
       "    <tr>\n",
       "      <th>2</th>\n",
       "      <td>103</td>\n",
       "      <td>Max</td>\n",
       "      <td>CSE</td>\n",
       "      <td>7.20</td>\n",
       "      <td>24.0</td>\n",
       "    </tr>\n",
       "    <tr>\n",
       "      <th>3</th>\n",
       "      <td>104</td>\n",
       "      <td>Smith</td>\n",
       "      <td>IT</td>\n",
       "      <td>9.00</td>\n",
       "      <td>NaN</td>\n",
       "    </tr>\n",
       "  </tbody>\n",
       "</table>\n",
       "</div>"
      ],
      "text/plain": [
       "    id   name branch  CGPA   age\n",
       "0  101    Bob    CSE  8.15   NaN\n",
       "1  102    Max     IT  8.80  23.0\n",
       "2  103    Max    CSE  7.20  24.0\n",
       "3  104  Smith     IT  9.00   NaN"
      ]
     },
     "execution_count": 115,
     "metadata": {},
     "output_type": "execute_result"
    }
   ],
   "source": [
    "newdf"
   ]
  },
  {
   "cell_type": "code",
   "execution_count": 116,
   "id": "d610bc90-20dc-4290-9ba7-e758c8050811",
   "metadata": {},
   "outputs": [
    {
     "data": {
      "text/html": [
       "<div>\n",
       "<style scoped>\n",
       "    .dataframe tbody tr th:only-of-type {\n",
       "        vertical-align: middle;\n",
       "    }\n",
       "\n",
       "    .dataframe tbody tr th {\n",
       "        vertical-align: top;\n",
       "    }\n",
       "\n",
       "    .dataframe thead th {\n",
       "        text-align: right;\n",
       "    }\n",
       "</style>\n",
       "<table border=\"1\" class=\"dataframe\">\n",
       "  <thead>\n",
       "    <tr style=\"text-align: right;\">\n",
       "      <th></th>\n",
       "      <th>id</th>\n",
       "      <th>name</th>\n",
       "      <th>branch</th>\n",
       "      <th>CGPA</th>\n",
       "      <th>age</th>\n",
       "    </tr>\n",
       "  </thead>\n",
       "  <tbody>\n",
       "    <tr>\n",
       "      <th>0</th>\n",
       "      <td>101</td>\n",
       "      <td>Bob</td>\n",
       "      <td>CSE</td>\n",
       "      <td>8.15</td>\n",
       "      <td>NaN</td>\n",
       "    </tr>\n",
       "    <tr>\n",
       "      <th>1</th>\n",
       "      <td>102</td>\n",
       "      <td>Max</td>\n",
       "      <td>IT</td>\n",
       "      <td>8.80</td>\n",
       "      <td>23.0</td>\n",
       "    </tr>\n",
       "    <tr>\n",
       "      <th>3</th>\n",
       "      <td>104</td>\n",
       "      <td>Smith</td>\n",
       "      <td>IT</td>\n",
       "      <td>9.00</td>\n",
       "      <td>NaN</td>\n",
       "    </tr>\n",
       "  </tbody>\n",
       "</table>\n",
       "</div>"
      ],
      "text/plain": [
       "    id   name branch  CGPA   age\n",
       "0  101    Bob    CSE  8.15   NaN\n",
       "1  102    Max     IT  8.80  23.0\n",
       "3  104  Smith     IT  9.00   NaN"
      ]
     },
     "execution_count": 116,
     "metadata": {},
     "output_type": "execute_result"
    }
   ],
   "source": [
    "newdf.drop_duplicates(subset=['name'])"
   ]
  },
  {
   "cell_type": "code",
   "execution_count": 117,
   "id": "56c39700-0059-46e3-a4e0-9627f22c115a",
   "metadata": {},
   "outputs": [
    {
     "data": {
      "text/html": [
       "<div>\n",
       "<style scoped>\n",
       "    .dataframe tbody tr th:only-of-type {\n",
       "        vertical-align: middle;\n",
       "    }\n",
       "\n",
       "    .dataframe tbody tr th {\n",
       "        vertical-align: top;\n",
       "    }\n",
       "\n",
       "    .dataframe thead th {\n",
       "        text-align: right;\n",
       "    }\n",
       "</style>\n",
       "<table border=\"1\" class=\"dataframe\">\n",
       "  <thead>\n",
       "    <tr style=\"text-align: right;\">\n",
       "      <th></th>\n",
       "      <th>id</th>\n",
       "      <th>name</th>\n",
       "      <th>branch</th>\n",
       "      <th>CGPA</th>\n",
       "      <th>age</th>\n",
       "    </tr>\n",
       "  </thead>\n",
       "  <tbody>\n",
       "    <tr>\n",
       "      <th>0</th>\n",
       "      <td>101</td>\n",
       "      <td>Bob</td>\n",
       "      <td>CSE</td>\n",
       "      <td>8.15</td>\n",
       "      <td>NaN</td>\n",
       "    </tr>\n",
       "    <tr>\n",
       "      <th>1</th>\n",
       "      <td>102</td>\n",
       "      <td>Max</td>\n",
       "      <td>IT</td>\n",
       "      <td>8.80</td>\n",
       "      <td>23.0</td>\n",
       "    </tr>\n",
       "    <tr>\n",
       "      <th>3</th>\n",
       "      <td>104</td>\n",
       "      <td>Smith</td>\n",
       "      <td>IT</td>\n",
       "      <td>9.00</td>\n",
       "      <td>NaN</td>\n",
       "    </tr>\n",
       "  </tbody>\n",
       "</table>\n",
       "</div>"
      ],
      "text/plain": [
       "    id   name branch  CGPA   age\n",
       "0  101    Bob    CSE  8.15   NaN\n",
       "1  102    Max     IT  8.80  23.0\n",
       "3  104  Smith     IT  9.00   NaN"
      ]
     },
     "execution_count": 117,
     "metadata": {},
     "output_type": "execute_result"
    }
   ],
   "source": [
    "newdf.drop_duplicates(subset=['name'], keep='first')"
   ]
  },
  {
   "cell_type": "code",
   "execution_count": 118,
   "id": "1d5e498c-f96c-4516-9ab3-337df7fe346c",
   "metadata": {},
   "outputs": [
    {
     "data": {
      "text/html": [
       "<div>\n",
       "<style scoped>\n",
       "    .dataframe tbody tr th:only-of-type {\n",
       "        vertical-align: middle;\n",
       "    }\n",
       "\n",
       "    .dataframe tbody tr th {\n",
       "        vertical-align: top;\n",
       "    }\n",
       "\n",
       "    .dataframe thead th {\n",
       "        text-align: right;\n",
       "    }\n",
       "</style>\n",
       "<table border=\"1\" class=\"dataframe\">\n",
       "  <thead>\n",
       "    <tr style=\"text-align: right;\">\n",
       "      <th></th>\n",
       "      <th>id</th>\n",
       "      <th>name</th>\n",
       "      <th>branch</th>\n",
       "      <th>CGPA</th>\n",
       "      <th>age</th>\n",
       "    </tr>\n",
       "  </thead>\n",
       "  <tbody>\n",
       "    <tr>\n",
       "      <th>0</th>\n",
       "      <td>101</td>\n",
       "      <td>Bob</td>\n",
       "      <td>CSE</td>\n",
       "      <td>8.15</td>\n",
       "      <td>NaN</td>\n",
       "    </tr>\n",
       "    <tr>\n",
       "      <th>2</th>\n",
       "      <td>103</td>\n",
       "      <td>Max</td>\n",
       "      <td>CSE</td>\n",
       "      <td>7.20</td>\n",
       "      <td>24.0</td>\n",
       "    </tr>\n",
       "    <tr>\n",
       "      <th>3</th>\n",
       "      <td>104</td>\n",
       "      <td>Smith</td>\n",
       "      <td>IT</td>\n",
       "      <td>9.00</td>\n",
       "      <td>NaN</td>\n",
       "    </tr>\n",
       "  </tbody>\n",
       "</table>\n",
       "</div>"
      ],
      "text/plain": [
       "    id   name branch  CGPA   age\n",
       "0  101    Bob    CSE  8.15   NaN\n",
       "2  103    Max    CSE  7.20  24.0\n",
       "3  104  Smith     IT  9.00   NaN"
      ]
     },
     "execution_count": 118,
     "metadata": {},
     "output_type": "execute_result"
    }
   ],
   "source": [
    "newdf.drop_duplicates(subset=['name'], keep='last')"
   ]
  },
  {
   "cell_type": "code",
   "execution_count": 119,
   "id": "16955534-0e5d-460d-8304-e997d4b6bc2e",
   "metadata": {},
   "outputs": [
    {
     "data": {
      "text/html": [
       "<div>\n",
       "<style scoped>\n",
       "    .dataframe tbody tr th:only-of-type {\n",
       "        vertical-align: middle;\n",
       "    }\n",
       "\n",
       "    .dataframe tbody tr th {\n",
       "        vertical-align: top;\n",
       "    }\n",
       "\n",
       "    .dataframe thead th {\n",
       "        text-align: right;\n",
       "    }\n",
       "</style>\n",
       "<table border=\"1\" class=\"dataframe\">\n",
       "  <thead>\n",
       "    <tr style=\"text-align: right;\">\n",
       "      <th></th>\n",
       "      <th>id</th>\n",
       "      <th>name</th>\n",
       "      <th>branch</th>\n",
       "      <th>CGPA</th>\n",
       "      <th>age</th>\n",
       "    </tr>\n",
       "  </thead>\n",
       "  <tbody>\n",
       "    <tr>\n",
       "      <th>0</th>\n",
       "      <td>101</td>\n",
       "      <td>Bob</td>\n",
       "      <td>CSE</td>\n",
       "      <td>8.15</td>\n",
       "      <td>NaN</td>\n",
       "    </tr>\n",
       "    <tr>\n",
       "      <th>3</th>\n",
       "      <td>104</td>\n",
       "      <td>Smith</td>\n",
       "      <td>IT</td>\n",
       "      <td>9.00</td>\n",
       "      <td>NaN</td>\n",
       "    </tr>\n",
       "  </tbody>\n",
       "</table>\n",
       "</div>"
      ],
      "text/plain": [
       "    id   name branch  CGPA  age\n",
       "0  101    Bob    CSE  8.15  NaN\n",
       "3  104  Smith     IT  9.00  NaN"
      ]
     },
     "execution_count": 119,
     "metadata": {},
     "output_type": "execute_result"
    }
   ],
   "source": [
    "newdf.drop_duplicates(subset=['name'], keep=False)"
   ]
  },
  {
   "cell_type": "markdown",
   "id": "fc2bc681-5fa8-45fb-8ae9-1e8ae897ec82",
   "metadata": {},
   "source": [
    "### Read Excel file"
   ]
  },
  {
   "cell_type": "markdown",
   "id": "26cbeda3-8819-4fef-a21e-2086d7747f73",
   "metadata": {},
   "source": [
    "***read_excel() : It is a function used to read data from an Excel file into a Dataframe.***"
   ]
  },
  {
   "cell_type": "code",
   "execution_count": 122,
   "id": "d4251406-30b4-45b8-92db-fd0404aa355a",
   "metadata": {},
   "outputs": [],
   "source": [
    "company = pd.read_excel('company.xlsx', sheet_name='Sheet1')"
   ]
  },
  {
   "cell_type": "code",
   "execution_count": 123,
   "id": "45765a9c-289d-4858-8a7a-418e162e3030",
   "metadata": {},
   "outputs": [
    {
     "data": {
      "text/html": [
       "<div>\n",
       "<style scoped>\n",
       "    .dataframe tbody tr th:only-of-type {\n",
       "        vertical-align: middle;\n",
       "    }\n",
       "\n",
       "    .dataframe tbody tr th {\n",
       "        vertical-align: top;\n",
       "    }\n",
       "\n",
       "    .dataframe thead th {\n",
       "        text-align: right;\n",
       "    }\n",
       "</style>\n",
       "<table border=\"1\" class=\"dataframe\">\n",
       "  <thead>\n",
       "    <tr style=\"text-align: right;\">\n",
       "      <th></th>\n",
       "      <th>Enrollment_no</th>\n",
       "      <th>Name</th>\n",
       "      <th>Company</th>\n",
       "    </tr>\n",
       "  </thead>\n",
       "  <tbody>\n",
       "    <tr>\n",
       "      <th>0</th>\n",
       "      <td>0105IT201059</td>\n",
       "      <td>Khushi</td>\n",
       "      <td>Google</td>\n",
       "    </tr>\n",
       "    <tr>\n",
       "      <th>1</th>\n",
       "      <td>0105IT201060</td>\n",
       "      <td>Krishna</td>\n",
       "      <td>PayPal</td>\n",
       "    </tr>\n",
       "    <tr>\n",
       "      <th>2</th>\n",
       "      <td>0105IT201061</td>\n",
       "      <td>Mahak</td>\n",
       "      <td>Microsoft</td>\n",
       "    </tr>\n",
       "    <tr>\n",
       "      <th>3</th>\n",
       "      <td>0105IT201062</td>\n",
       "      <td>Manish</td>\n",
       "      <td>Zoho</td>\n",
       "    </tr>\n",
       "  </tbody>\n",
       "</table>\n",
       "</div>"
      ],
      "text/plain": [
       "  Enrollment_no     Name    Company\n",
       "0  0105IT201059   Khushi     Google\n",
       "1  0105IT201060  Krishna     PayPal\n",
       "2  0105IT201061    Mahak  Microsoft\n",
       "3  0105IT201062   Manish       Zoho"
      ]
     },
     "execution_count": 123,
     "metadata": {},
     "output_type": "execute_result"
    }
   ],
   "source": [
    "company"
   ]
  },
  {
   "cell_type": "code",
   "execution_count": 124,
   "id": "0d80a330",
   "metadata": {},
   "outputs": [],
   "source": [
    "company = pd.read_excel('company.xlsx', sheet_name='Sheet2')"
   ]
  },
  {
   "cell_type": "code",
   "execution_count": 125,
   "id": "1645c802-e539-4056-a66e-e7cde7432f72",
   "metadata": {},
   "outputs": [
    {
     "data": {
      "text/html": [
       "<div>\n",
       "<style scoped>\n",
       "    .dataframe tbody tr th:only-of-type {\n",
       "        vertical-align: middle;\n",
       "    }\n",
       "\n",
       "    .dataframe tbody tr th {\n",
       "        vertical-align: top;\n",
       "    }\n",
       "\n",
       "    .dataframe thead th {\n",
       "        text-align: right;\n",
       "    }\n",
       "</style>\n",
       "<table border=\"1\" class=\"dataframe\">\n",
       "  <thead>\n",
       "    <tr style=\"text-align: right;\">\n",
       "      <th></th>\n",
       "      <th>Enrollment_no</th>\n",
       "      <th>Name</th>\n",
       "      <th>Salary</th>\n",
       "    </tr>\n",
       "  </thead>\n",
       "  <tbody>\n",
       "    <tr>\n",
       "      <th>0</th>\n",
       "      <td>0105IT201059</td>\n",
       "      <td>Khushi</td>\n",
       "      <td>200000</td>\n",
       "    </tr>\n",
       "    <tr>\n",
       "      <th>1</th>\n",
       "      <td>0105IT201060</td>\n",
       "      <td>Krishna</td>\n",
       "      <td>150000</td>\n",
       "    </tr>\n",
       "    <tr>\n",
       "      <th>2</th>\n",
       "      <td>0105IT201061</td>\n",
       "      <td>Mahak</td>\n",
       "      <td>180000</td>\n",
       "    </tr>\n",
       "    <tr>\n",
       "      <th>3</th>\n",
       "      <td>0105IT201062</td>\n",
       "      <td>Manish</td>\n",
       "      <td>300000</td>\n",
       "    </tr>\n",
       "  </tbody>\n",
       "</table>\n",
       "</div>"
      ],
      "text/plain": [
       "  Enrollment_no     Name  Salary\n",
       "0  0105IT201059   Khushi  200000\n",
       "1  0105IT201060  Krishna  150000\n",
       "2  0105IT201061    Mahak  180000\n",
       "3  0105IT201062   Manish  300000"
      ]
     },
     "execution_count": 125,
     "metadata": {},
     "output_type": "execute_result"
    }
   ],
   "source": [
    "company"
   ]
  }
 ],
 "metadata": {
  "kernelspec": {
   "display_name": "Python 3 (ipykernel)",
   "language": "python",
   "name": "python3"
  },
  "language_info": {
   "codemirror_mode": {
    "name": "ipython",
    "version": 3
   },
   "file_extension": ".py",
   "mimetype": "text/x-python",
   "name": "python",
   "nbconvert_exporter": "python",
   "pygments_lexer": "ipython3",
   "version": "3.12.4"
  }
 },
 "nbformat": 4,
 "nbformat_minor": 5
}
