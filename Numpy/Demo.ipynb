{
 "cells": [
  {
   "cell_type": "markdown",
   "id": "8ab91624-40d3-4c62-afea-f2f1c5bcd210",
   "metadata": {},
   "source": [
    "# **Numpy**"
   ]
  },
  {
   "cell_type": "markdown",
   "id": "ee420a1a-599a-44e2-9fdb-ea18d6e6c2e0",
   "metadata": {},
   "source": [
    "Numpy is a powerful Python library for numerical computations. It offers multi-dimensional arrays, mathematical functions, and efficient operations. It's used in data analysis, machine learning, and scientific computing."
   ]
  },
  {
   "cell_type": "markdown",
   "id": "1ab8ad36-7ff3-4fe1-ae92-c111fbf566b3",
   "metadata": {},
   "source": [
    "#### Why use Numpy?"
   ]
  },
  {
   "cell_type": "markdown",
   "id": "d893fc1e-e3cb-4c88-98bc-94a4d4a9f1e9",
   "metadata": {},
   "source": [
    "- It is easy to learn.\n",
    "- It is easy to use.\n",
    "- It uses relatively less memory to store data.\n",
    "- It provides efficient storage.\n",
    "- Do complex math.\n",
    "- Broad range of mathematical functions."
   ]
  },
  {
   "cell_type": "markdown",
   "id": "45db0e39-cf60-4174-8ccf-715e0307bf02",
   "metadata": {},
   "source": [
    "### ***Importing Numpy***"
   ]
  },
  {
   "cell_type": "code",
   "execution_count": 5,
   "id": "10510f2c-abb7-4512-9e68-57a91601c13c",
   "metadata": {},
   "outputs": [],
   "source": [
    "import numpy as np"
   ]
  },
  {
   "cell_type": "markdown",
   "id": "a87257b2-4ec0-43df-9d53-a47a4de19d06",
   "metadata": {},
   "source": [
    "##### **1-D Array**"
   ]
  },
  {
   "cell_type": "code",
   "execution_count": 7,
   "id": "25200546-df9c-4863-a38e-ec408bca5823",
   "metadata": {},
   "outputs": [],
   "source": [
    "arr1 = np.array([10, 12, 15, 21])"
   ]
  },
  {
   "cell_type": "code",
   "execution_count": 8,
   "id": "4fbb20d6-d891-4708-b535-abb700b59cb9",
   "metadata": {},
   "outputs": [
    {
     "data": {
      "text/plain": [
       "array([10, 12, 15, 21])"
      ]
     },
     "execution_count": 8,
     "metadata": {},
     "output_type": "execute_result"
    }
   ],
   "source": [
    "arr1"
   ]
  },
  {
   "cell_type": "code",
   "execution_count": 164,
   "id": "0666c097-1083-4795-a474-2bac09802ae7",
   "metadata": {},
   "outputs": [
    {
     "data": {
      "text/plain": [
       "10"
      ]
     },
     "execution_count": 164,
     "metadata": {},
     "output_type": "execute_result"
    }
   ],
   "source": [
    "arr1[0]"
   ]
  },
  {
   "cell_type": "markdown",
   "id": "76e1a106-45db-49b0-937b-b062175dd05a",
   "metadata": {},
   "source": [
    "##### **2-D Array**"
   ]
  },
  {
   "cell_type": "code",
   "execution_count": 11,
   "id": "bf446767-910f-4f6d-ba57-d18bd3d1a714",
   "metadata": {},
   "outputs": [],
   "source": [
    "arr2 = np.array([[10, 72, 12, 33]])"
   ]
  },
  {
   "cell_type": "code",
   "execution_count": 12,
   "id": "44e6c2ad-c975-4463-a005-c00879d3c151",
   "metadata": {},
   "outputs": [
    {
     "data": {
      "text/plain": [
       "array([[10, 72, 12, 33]])"
      ]
     },
     "execution_count": 12,
     "metadata": {},
     "output_type": "execute_result"
    }
   ],
   "source": [
    "arr2"
   ]
  },
  {
   "cell_type": "code",
   "execution_count": 13,
   "id": "39c57ce3-fb90-4b64-bbcf-bfe74c10d155",
   "metadata": {},
   "outputs": [
    {
     "data": {
      "text/plain": [
       "72"
      ]
     },
     "execution_count": 13,
     "metadata": {},
     "output_type": "execute_result"
    }
   ],
   "source": [
    "arr2[0,1]"
   ]
  },
  {
   "cell_type": "markdown",
   "id": "3b96ad06-0f8b-4322-843c-32085c6d201d",
   "metadata": {},
   "source": [
    "### Attributes and Methods in Numpy"
   ]
  },
  {
   "cell_type": "markdown",
   "id": "e5786b1f-b773-4efb-8e9d-9540cd247357",
   "metadata": {},
   "source": [
    "- **Attributes :** Attributes are properties or characteristics of a Numpy array. They provide information about the array's dimensions, data type, shape, and more.\n",
    "***ie.. shape, size, dtype, ndim, flags, etc..***"
   ]
  },
  {
   "cell_type": "markdown",
   "id": "57ac6965-52c1-462e-9484-14a29892e647",
   "metadata": {},
   "source": [
    "- **Methods :** Methods are functions associated with Numpy arrays that allow you to perform various operations on the array data.\n",
    "***ie.. reshape(), resize(), sum(), ravel(), tolist(), etc...***"
   ]
  },
  {
   "cell_type": "markdown",
   "id": "996e4fec-db38-479c-8ed4-43ed0d10b274",
   "metadata": {},
   "source": [
    "***shape - Return the shape of an array***"
   ]
  },
  {
   "cell_type": "code",
   "execution_count": 14,
   "id": "d639f124-e758-4afa-83e8-7a7a45326561",
   "metadata": {},
   "outputs": [
    {
     "data": {
      "text/plain": [
       "(1, 4)"
      ]
     },
     "execution_count": 14,
     "metadata": {},
     "output_type": "execute_result"
    }
   ],
   "source": [
    "arr2.shape"
   ]
  },
  {
   "cell_type": "markdown",
   "id": "ab1521e8-89d3-4089-9cce-82faa337755d",
   "metadata": {},
   "source": [
    "***dtype - Return the data type of elements within a Numpy array.***"
   ]
  },
  {
   "cell_type": "code",
   "execution_count": 15,
   "id": "157d5078-44d5-434b-9164-f31cc4efe49e",
   "metadata": {},
   "outputs": [
    {
     "data": {
      "text/plain": [
       "dtype('int32')"
      ]
     },
     "execution_count": 15,
     "metadata": {},
     "output_type": "execute_result"
    }
   ],
   "source": [
    "arr2.dtype"
   ]
  },
  {
   "cell_type": "code",
   "execution_count": 16,
   "id": "5a6b0bc7-f876-40ce-883d-57122a377e41",
   "metadata": {},
   "outputs": [],
   "source": [
    "arr2[0,1] = 40"
   ]
  },
  {
   "cell_type": "code",
   "execution_count": 17,
   "id": "9a4b757c-c3ca-48a3-9659-7a548d717fe7",
   "metadata": {},
   "outputs": [
    {
     "data": {
      "text/plain": [
       "array([[10, 40, 12, 33]])"
      ]
     },
     "execution_count": 17,
     "metadata": {},
     "output_type": "execute_result"
    }
   ],
   "source": [
    "arr2"
   ]
  },
  {
   "cell_type": "code",
   "execution_count": 19,
   "id": "cd3b0f52-fb7e-4504-9e92-131e3b8e4041",
   "metadata": {},
   "outputs": [],
   "source": [
    "arr3 = np.array([[62,12,22], [32,19,28], [11,38,26]])"
   ]
  },
  {
   "cell_type": "code",
   "execution_count": 20,
   "id": "733dbf39-b301-48ed-8ff2-2f5ee3da0d08",
   "metadata": {},
   "outputs": [
    {
     "data": {
      "text/plain": [
       "array([[62, 12, 22],\n",
       "       [32, 19, 28],\n",
       "       [11, 38, 26]])"
      ]
     },
     "execution_count": 20,
     "metadata": {},
     "output_type": "execute_result"
    }
   ],
   "source": [
    "arr3"
   ]
  },
  {
   "cell_type": "code",
   "execution_count": 21,
   "id": "504d4d72-b41a-4b61-bf52-b3c2ca23851a",
   "metadata": {},
   "outputs": [
    {
     "data": {
      "text/plain": [
       "(3, 3)"
      ]
     },
     "execution_count": 21,
     "metadata": {},
     "output_type": "execute_result"
    }
   ],
   "source": [
    "arr3.shape"
   ]
  },
  {
   "cell_type": "markdown",
   "id": "24cd63d9-3017-4b7f-93cc-342689062fb2",
   "metadata": {},
   "source": [
    "***size- Return the total number of elements in the array.***"
   ]
  },
  {
   "cell_type": "code",
   "execution_count": 22,
   "id": "0f3ddd9c-d14a-438c-ae54-23339764dd1b",
   "metadata": {},
   "outputs": [
    {
     "data": {
      "text/plain": [
       "9"
      ]
     },
     "execution_count": 22,
     "metadata": {},
     "output_type": "execute_result"
    }
   ],
   "source": [
    "arr3.size"
   ]
  },
  {
   "cell_type": "markdown",
   "id": "0f774df2-4971-4402-8784-093c59ca46d7",
   "metadata": {},
   "source": [
    "## Array Creation"
   ]
  },
  {
   "cell_type": "markdown",
   "id": "b551696e-f673-4631-97fb-7ccd954235b7",
   "metadata": {},
   "source": [
    "**Create an array, each element of which is zero.**"
   ]
  },
  {
   "cell_type": "code",
   "execution_count": 24,
   "id": "c8af4cac-1f67-48be-9153-f29c64b3c1c5",
   "metadata": {},
   "outputs": [],
   "source": [
    "zeros = np.zeros((3,3))"
   ]
  },
  {
   "cell_type": "code",
   "execution_count": 25,
   "id": "6c56298e-80e3-49cf-a2e1-6531250b295f",
   "metadata": {},
   "outputs": [
    {
     "data": {
      "text/plain": [
       "array([[0., 0., 0.],\n",
       "       [0., 0., 0.],\n",
       "       [0., 0., 0.]])"
      ]
     },
     "execution_count": 25,
     "metadata": {},
     "output_type": "execute_result"
    }
   ],
   "source": [
    "zeros"
   ]
  },
  {
   "cell_type": "markdown",
   "id": "ce78b8aa-1041-4e21-a487-98b4f571936d",
   "metadata": {},
   "source": [
    "**Create an array, each element of which is one.**"
   ]
  },
  {
   "cell_type": "code",
   "execution_count": 26,
   "id": "8734a840-2236-431a-878c-1b53a3f2ad94",
   "metadata": {},
   "outputs": [],
   "source": [
    "ones = np.ones((2,5))"
   ]
  },
  {
   "cell_type": "code",
   "execution_count": 27,
   "id": "4667b9b6-5c7a-4df4-88d2-c130a71a708e",
   "metadata": {},
   "outputs": [
    {
     "data": {
      "text/plain": [
       "array([[1., 1., 1., 1., 1.],\n",
       "       [1., 1., 1., 1., 1.]])"
      ]
     },
     "execution_count": 27,
     "metadata": {},
     "output_type": "execute_result"
    }
   ],
   "source": [
    "ones"
   ]
  },
  {
   "cell_type": "markdown",
   "id": "64d775ef-e4cc-4e4c-ad7b-3cf8806b1d47",
   "metadata": {},
   "source": [
    "**Create a Numpy array, containing the integers from 0 to n.**"
   ]
  },
  {
   "cell_type": "code",
   "execution_count": 28,
   "id": "0d46b63b-7bec-48b6-9ea8-afd9cdab6845",
   "metadata": {},
   "outputs": [],
   "source": [
    "range = np.arange(10)"
   ]
  },
  {
   "cell_type": "code",
   "execution_count": 29,
   "id": "17525125-0a44-4a5b-bb2c-0b074d30db8c",
   "metadata": {},
   "outputs": [
    {
     "data": {
      "text/plain": [
       "array([0, 1, 2, 3, 4, 5, 6, 7, 8, 9])"
      ]
     },
     "execution_count": 29,
     "metadata": {},
     "output_type": "execute_result"
    }
   ],
   "source": [
    "range"
   ]
  },
  {
   "cell_type": "markdown",
   "id": "7cb94156-e356-49d1-bf8e-2fbf18a38471",
   "metadata": {},
   "source": [
    "**Create an array of evenly space values.**"
   ]
  },
  {
   "cell_type": "code",
   "execution_count": 30,
   "id": "f10fdb6c-553f-434a-bc51-6914824f749a",
   "metadata": {},
   "outputs": [],
   "source": [
    "lspace = np.linspace(1,40,6)"
   ]
  },
  {
   "cell_type": "code",
   "execution_count": 31,
   "id": "b8ed7656-0e37-4019-a5e4-6fa007e9724a",
   "metadata": {},
   "outputs": [
    {
     "data": {
      "text/plain": [
       "array([ 1. ,  8.8, 16.6, 24.4, 32.2, 40. ])"
      ]
     },
     "execution_count": 31,
     "metadata": {},
     "output_type": "execute_result"
    }
   ],
   "source": [
    "lspace"
   ]
  },
  {
   "cell_type": "markdown",
   "id": "4779cc6a-3b7f-4ee5-ba25-c9cf2c78b9a7",
   "metadata": {},
   "source": [
    "**Create an array of a specified shape but the value will be arbitrary.**"
   ]
  },
  {
   "cell_type": "code",
   "execution_count": 32,
   "id": "229de4bd-4f36-4267-bdd2-d3df643d8e30",
   "metadata": {},
   "outputs": [],
   "source": [
    "emp = np.empty((4,3))"
   ]
  },
  {
   "cell_type": "code",
   "execution_count": 33,
   "id": "a1850ff2-5b3a-486f-a6e5-ce222ee54b1f",
   "metadata": {},
   "outputs": [
    {
     "data": {
      "text/plain": [
       "array([[1.35931428e-311, 2.47032823e-322, 0.00000000e+000],\n",
       "       [0.00000000e+000, 1.03977794e-312, 1.31370903e-076],\n",
       "       [4.97788705e-091, 2.32002835e-056, 1.52516742e-052],\n",
       "       [3.14379749e+179, 3.99910963e+252, 1.90979636e-312]])"
      ]
     },
     "execution_count": 33,
     "metadata": {},
     "output_type": "execute_result"
    }
   ],
   "source": [
    "emp"
   ]
  },
  {
   "cell_type": "markdown",
   "id": "f4c8c100-4dfd-4faa-b141-36ab23e6369f",
   "metadata": {},
   "source": [
    "**Create a new array with the same shape, data type as an existing array.**"
   ]
  },
  {
   "cell_type": "code",
   "execution_count": 34,
   "id": "6d7fc796-cdfc-4409-b666-06b01b9d55f1",
   "metadata": {},
   "outputs": [],
   "source": [
    "emp_like = np.empty_like(arr3)"
   ]
  },
  {
   "cell_type": "code",
   "execution_count": 35,
   "id": "24c7e083-45e2-4d26-bf40-3d61e1b0b706",
   "metadata": {},
   "outputs": [
    {
     "data": {
      "text/plain": [
       "array([[          0,           0, -1787981648],\n",
       "       [        640, -1787983088,         640],\n",
       "       [-1787981088,         640,     7077989]])"
      ]
     },
     "execution_count": 35,
     "metadata": {},
     "output_type": "execute_result"
    }
   ],
   "source": [
    "emp_like"
   ]
  },
  {
   "cell_type": "markdown",
   "id": "3ca0d0e5-deef-4868-b521-c4f6219e1a33",
   "metadata": {},
   "source": [
    "**Create an identity matrix.**\n",
    "\n",
    "*An identity matrix is a square matrix with 1's on the diagonal and 0's everywhere else.*"
   ]
  },
  {
   "cell_type": "code",
   "execution_count": 36,
   "id": "d25fb476-09d9-49ca-84be-cc899539d7f0",
   "metadata": {},
   "outputs": [],
   "source": [
    "ide = np.identity(10)"
   ]
  },
  {
   "cell_type": "code",
   "execution_count": 37,
   "id": "ae2c3401-b7da-4621-bad1-4c6f0aff89f3",
   "metadata": {},
   "outputs": [
    {
     "data": {
      "text/plain": [
       "array([[1., 0., 0., 0., 0., 0., 0., 0., 0., 0.],\n",
       "       [0., 1., 0., 0., 0., 0., 0., 0., 0., 0.],\n",
       "       [0., 0., 1., 0., 0., 0., 0., 0., 0., 0.],\n",
       "       [0., 0., 0., 1., 0., 0., 0., 0., 0., 0.],\n",
       "       [0., 0., 0., 0., 1., 0., 0., 0., 0., 0.],\n",
       "       [0., 0., 0., 0., 0., 1., 0., 0., 0., 0.],\n",
       "       [0., 0., 0., 0., 0., 0., 1., 0., 0., 0.],\n",
       "       [0., 0., 0., 0., 0., 0., 0., 1., 0., 0.],\n",
       "       [0., 0., 0., 0., 0., 0., 0., 0., 1., 0.],\n",
       "       [0., 0., 0., 0., 0., 0., 0., 0., 0., 1.]])"
      ]
     },
     "execution_count": 37,
     "metadata": {},
     "output_type": "execute_result"
    }
   ],
   "source": [
    "ide"
   ]
  },
  {
   "cell_type": "markdown",
   "id": "c4395fa8-11e1-41e0-8249-61acce4a3d6b",
   "metadata": {},
   "source": [
    "***reshape() : Give a new shape to an array without changing its data.***"
   ]
  },
  {
   "cell_type": "code",
   "execution_count": 38,
   "id": "17a92282-3afd-4712-b782-7758b72f06ea",
   "metadata": {},
   "outputs": [],
   "source": [
    "arr4 = np.arange(33)"
   ]
  },
  {
   "cell_type": "code",
   "execution_count": 39,
   "id": "1eaf9d8e-d91f-46a0-9b37-5ed0992a1085",
   "metadata": {},
   "outputs": [
    {
     "data": {
      "text/plain": [
       "array([ 0,  1,  2,  3,  4,  5,  6,  7,  8,  9, 10, 11, 12, 13, 14, 15, 16,\n",
       "       17, 18, 19, 20, 21, 22, 23, 24, 25, 26, 27, 28, 29, 30, 31, 32])"
      ]
     },
     "execution_count": 39,
     "metadata": {},
     "output_type": "execute_result"
    }
   ],
   "source": [
    "arr4"
   ]
  },
  {
   "cell_type": "code",
   "execution_count": 40,
   "id": "59f94ce1-2e0d-4e67-8f19-b134306afbdb",
   "metadata": {},
   "outputs": [
    {
     "data": {
      "text/plain": [
       "array([[ 0,  1,  2,  3,  4,  5,  6,  7,  8,  9, 10],\n",
       "       [11, 12, 13, 14, 15, 16, 17, 18, 19, 20, 21],\n",
       "       [22, 23, 24, 25, 26, 27, 28, 29, 30, 31, 32]])"
      ]
     },
     "execution_count": 40,
     "metadata": {},
     "output_type": "execute_result"
    }
   ],
   "source": [
    "arr4.reshape(3,11)"
   ]
  },
  {
   "cell_type": "markdown",
   "id": "36b2fb6e-9a95-4576-af85-bfdfdf634056",
   "metadata": {},
   "source": [
    "***ravel() : Return the flattend array.***"
   ]
  },
  {
   "cell_type": "code",
   "execution_count": 41,
   "id": "f6732c78-5d41-4536-a042-acc1b23523ac",
   "metadata": {},
   "outputs": [],
   "source": [
    "arr4 = arr4.ravel()"
   ]
  },
  {
   "cell_type": "code",
   "execution_count": 42,
   "id": "20a3aaf2-48dc-48cc-ae29-51cc78f38644",
   "metadata": {},
   "outputs": [
    {
     "data": {
      "text/plain": [
       "array([ 0,  1,  2,  3,  4,  5,  6,  7,  8,  9, 10, 11, 12, 13, 14, 15, 16,\n",
       "       17, 18, 19, 20, 21, 22, 23, 24, 25, 26, 27, 28, 29, 30, 31, 32])"
      ]
     },
     "execution_count": 42,
     "metadata": {},
     "output_type": "execute_result"
    }
   ],
   "source": [
    "arr4"
   ]
  },
  {
   "cell_type": "markdown",
   "id": "95e6658f-9585-4ffa-82be-fb6fb6e8579b",
   "metadata": {},
   "source": [
    "## Numpy Axis"
   ]
  },
  {
   "cell_type": "markdown",
   "id": "54d561d9-fc09-4fd7-8489-b81191be8613",
   "metadata": {},
   "source": [
    "An axis refers to a dimension of a multi-dimensional array. For eaxample, a 2D array has two axes: the first axis (axis 0) represents the rows and the second axis (axis 1) represents the columns."
   ]
  },
  {
   "cell_type": "code",
   "execution_count": 44,
   "id": "3dd9485c-2f49-4ade-8aca-81e57129d661",
   "metadata": {},
   "outputs": [],
   "source": [
    "x = [[1,2,3], [4,5,6], [7,8,9]]"
   ]
  },
  {
   "cell_type": "code",
   "execution_count": 45,
   "id": "781fbff8-188d-40a7-877e-ab908a812e68",
   "metadata": {},
   "outputs": [],
   "source": [
    "arr5 = np.array(x)"
   ]
  },
  {
   "cell_type": "code",
   "execution_count": 46,
   "id": "50c4f071-7f4a-4448-bf5d-01d8e7569c50",
   "metadata": {},
   "outputs": [
    {
     "data": {
      "text/plain": [
       "array([[1, 2, 3],\n",
       "       [4, 5, 6],\n",
       "       [7, 8, 9]])"
      ]
     },
     "execution_count": 46,
     "metadata": {},
     "output_type": "execute_result"
    }
   ],
   "source": [
    "arr5"
   ]
  },
  {
   "cell_type": "markdown",
   "id": "bbc84506-6d1f-45c8-b573-361cdb0506f3",
   "metadata": {},
   "source": [
    "### Axis Operations"
   ]
  },
  {
   "cell_type": "markdown",
   "id": "40132365-62aa-46a1-8a6d-2468cab5e235",
   "metadata": {},
   "source": [
    "***sum() : Sum of array elements over a given axis.***"
   ]
  },
  {
   "cell_type": "code",
   "execution_count": 47,
   "id": "1ceaf878-81d0-430c-90fd-215d2e7dd691",
   "metadata": {},
   "outputs": [
    {
     "data": {
      "text/plain": [
       "array([12, 15, 18])"
      ]
     },
     "execution_count": 47,
     "metadata": {},
     "output_type": "execute_result"
    }
   ],
   "source": [
    "arr5.sum(axis=0)"
   ]
  },
  {
   "cell_type": "code",
   "execution_count": 48,
   "id": "e0886f8c-25d7-4b2b-beb1-cbda46c188a5",
   "metadata": {},
   "outputs": [
    {
     "data": {
      "text/plain": [
       "array([ 6, 15, 24])"
      ]
     },
     "execution_count": 48,
     "metadata": {},
     "output_type": "execute_result"
    }
   ],
   "source": [
    "arr5.sum(axis=1)"
   ]
  },
  {
   "cell_type": "markdown",
   "id": "c0d7b119-68e1-41e4-be35-88fa04c9f771",
   "metadata": {},
   "source": [
    "***T : It is a shorthand for the transpose() method. It is used to transpose the array, which means swapping its rows and columns.***"
   ]
  },
  {
   "cell_type": "code",
   "execution_count": 49,
   "id": "4be5f522-b827-4c30-bae9-02109fdddfe4",
   "metadata": {},
   "outputs": [
    {
     "data": {
      "text/plain": [
       "array([[1, 4, 7],\n",
       "       [2, 5, 8],\n",
       "       [3, 6, 9]])"
      ]
     },
     "execution_count": 49,
     "metadata": {},
     "output_type": "execute_result"
    }
   ],
   "source": [
    "arr5.T"
   ]
  },
  {
   "cell_type": "markdown",
   "id": "6a5eea43-2577-469e-89bf-862f44730ed8",
   "metadata": {},
   "source": [
    "***flat : Return a copy of the array collapsed into one dimension.***"
   ]
  },
  {
   "cell_type": "code",
   "execution_count": 50,
   "id": "64d1b0a6-d88b-4c3a-aa05-8cdf704b22ae",
   "metadata": {},
   "outputs": [
    {
     "data": {
      "text/plain": [
       "<numpy.flatiter at 0x28094b648e0>"
      ]
     },
     "execution_count": 50,
     "metadata": {},
     "output_type": "execute_result"
    }
   ],
   "source": [
    "arr5.flat"
   ]
  },
  {
   "cell_type": "code",
   "execution_count": 51,
   "id": "808d7c6d-eaf3-451d-adbb-494e777eccf4",
   "metadata": {},
   "outputs": [
    {
     "name": "stdout",
     "output_type": "stream",
     "text": [
      "1\n",
      "2\n",
      "3\n",
      "4\n",
      "5\n",
      "6\n",
      "7\n",
      "8\n",
      "9\n"
     ]
    }
   ],
   "source": [
    "for item in arr5.flat:\n",
    "    print(item)"
   ]
  },
  {
   "cell_type": "markdown",
   "id": "4b195085-e404-4ba6-9710-3db133ee99ba",
   "metadata": {},
   "source": [
    "***ndim : Return the number of dimensions of the array.***"
   ]
  },
  {
   "cell_type": "code",
   "execution_count": 52,
   "id": "7185f5c3-91f1-460f-9b9e-e56ee692b9a6",
   "metadata": {},
   "outputs": [
    {
     "data": {
      "text/plain": [
       "2"
      ]
     },
     "execution_count": 52,
     "metadata": {},
     "output_type": "execute_result"
    }
   ],
   "source": [
    "arr5.ndim"
   ]
  },
  {
   "cell_type": "code",
   "execution_count": 53,
   "id": "33925ad3-d7c3-4579-b7a5-43eaf01a5df6",
   "metadata": {},
   "outputs": [
    {
     "data": {
      "text/plain": [
       "9"
      ]
     },
     "execution_count": 53,
     "metadata": {},
     "output_type": "execute_result"
    }
   ],
   "source": [
    "arr5.size"
   ]
  },
  {
   "cell_type": "markdown",
   "id": "43725f2f-e366-4555-83df-e87722616c60",
   "metadata": {},
   "source": [
    "***nbytes : It returns the total number of bytes occupied by the array's elements.***"
   ]
  },
  {
   "cell_type": "code",
   "execution_count": 54,
   "id": "5adc1a2b-a2f4-4c0c-b620-a912c8e37485",
   "metadata": {},
   "outputs": [
    {
     "data": {
      "text/plain": [
       "36"
      ]
     },
     "execution_count": 54,
     "metadata": {},
     "output_type": "execute_result"
    }
   ],
   "source": [
    "arr5.nbytes"
   ]
  },
  {
   "cell_type": "code",
   "execution_count": 232,
   "id": "dc3585af-624e-4c9c-96d0-a8fbdfa7ea44",
   "metadata": {},
   "outputs": [],
   "source": [
    "arr6 = np.array([[23,61,26], [64,72,29], [17,83,56]])"
   ]
  },
  {
   "cell_type": "code",
   "execution_count": 234,
   "id": "4c94c7c9-78a7-4df3-ada2-eb73acf923c7",
   "metadata": {},
   "outputs": [
    {
     "data": {
      "text/plain": [
       "array([[23, 61, 26],\n",
       "       [64, 72, 29],\n",
       "       [17, 83, 56]])"
      ]
     },
     "execution_count": 234,
     "metadata": {},
     "output_type": "execute_result"
    }
   ],
   "source": [
    "arr6"
   ]
  },
  {
   "cell_type": "markdown",
   "id": "cf4480dd-d3da-48b1-b269-ee252ee05858",
   "metadata": {},
   "source": [
    "***argmax() : Retuen the indices of the maximum values along an axis.***"
   ]
  },
  {
   "cell_type": "code",
   "execution_count": 240,
   "id": "61ac7bc6-b145-4457-b7bb-a504b0dabcf8",
   "metadata": {},
   "outputs": [
    {
     "data": {
      "text/plain": [
       "array([1, 2, 2], dtype=int64)"
      ]
     },
     "execution_count": 240,
     "metadata": {},
     "output_type": "execute_result"
    }
   ],
   "source": [
    "arr6.argmax(axis=0)"
   ]
  },
  {
   "cell_type": "code",
   "execution_count": 249,
   "id": "dd325878-cf0b-43a8-b9a9-14ee62a03783",
   "metadata": {},
   "outputs": [
    {
     "data": {
      "text/plain": [
       "array([1, 1, 1], dtype=int64)"
      ]
     },
     "execution_count": 249,
     "metadata": {},
     "output_type": "execute_result"
    }
   ],
   "source": [
    "arr6.argmax(axis=1)"
   ]
  },
  {
   "cell_type": "markdown",
   "id": "02124f2b-b96d-402c-af57-c6e210569f14",
   "metadata": {},
   "source": [
    "***argmin() : Return the indices of the minimum values along an axis.***"
   ]
  },
  {
   "cell_type": "code",
   "execution_count": 242,
   "id": "6f59b6c8-0d27-4869-8ae9-02c830ed8bbb",
   "metadata": {},
   "outputs": [
    {
     "data": {
      "text/plain": [
       "array([2, 0, 0], dtype=int64)"
      ]
     },
     "execution_count": 242,
     "metadata": {},
     "output_type": "execute_result"
    }
   ],
   "source": [
    "arr6.argmin(axis=0)"
   ]
  },
  {
   "cell_type": "code",
   "execution_count": 244,
   "id": "4acb51a9-7463-4844-8c72-975878fbc871",
   "metadata": {},
   "outputs": [
    {
     "data": {
      "text/plain": [
       "array([0, 2, 0], dtype=int64)"
      ]
     },
     "execution_count": 244,
     "metadata": {},
     "output_type": "execute_result"
    }
   ],
   "source": [
    "arr6.argmin(axis=1)"
   ]
  },
  {
   "cell_type": "markdown",
   "id": "6944a997-2487-41c2-808d-c84dc78f35f6",
   "metadata": {},
   "source": [
    "***argsort() : Return the indices that would sort an array.***"
   ]
  },
  {
   "cell_type": "code",
   "execution_count": 246,
   "id": "9e355fa4-7537-4941-aa7a-51ef137fd12f",
   "metadata": {},
   "outputs": [
    {
     "data": {
      "text/plain": [
       "array([[0, 2, 1],\n",
       "       [2, 0, 1],\n",
       "       [0, 2, 1]], dtype=int64)"
      ]
     },
     "execution_count": 246,
     "metadata": {},
     "output_type": "execute_result"
    }
   ],
   "source": [
    "arr6.argsort(axis=1)"
   ]
  },
  {
   "cell_type": "markdown",
   "id": "c320da4c-a2d4-43b2-922a-c253011c93b3",
   "metadata": {},
   "source": [
    "### Mathematical Operations "
   ]
  },
  {
   "cell_type": "markdown",
   "id": "9633592b-c237-4cfa-afa1-d6d4600ea58c",
   "metadata": {},
   "source": [
    "#### **Arithmetic Operations**"
   ]
  },
  {
   "cell_type": "code",
   "execution_count": 266,
   "id": "b46732f7-2b32-4eb9-95d0-6e985e49390b",
   "metadata": {},
   "outputs": [],
   "source": [
    "ar1 = np.array([[1,3,2], [8,2,2], [4,5,6]])"
   ]
  },
  {
   "cell_type": "code",
   "execution_count": 268,
   "id": "b32cd8da-ffdf-49bc-9f1e-d9eb11294b1e",
   "metadata": {},
   "outputs": [
    {
     "data": {
      "text/plain": [
       "array([[1, 3, 2],\n",
       "       [8, 2, 2],\n",
       "       [4, 5, 6]])"
      ]
     },
     "execution_count": 268,
     "metadata": {},
     "output_type": "execute_result"
    }
   ],
   "source": [
    "ar1"
   ]
  },
  {
   "cell_type": "code",
   "execution_count": 270,
   "id": "ee9d8d85-b79f-44f2-a317-595a04298a7f",
   "metadata": {},
   "outputs": [],
   "source": [
    "ar2 = np.array([[6,3,2], [1,2,4], [4,1,2]])"
   ]
  },
  {
   "cell_type": "code",
   "execution_count": 272,
   "id": "00fa04d8-1572-4629-b733-9c393c681289",
   "metadata": {},
   "outputs": [
    {
     "data": {
      "text/plain": [
       "array([[6, 3, 2],\n",
       "       [1, 2, 4],\n",
       "       [4, 1, 2]])"
      ]
     },
     "execution_count": 272,
     "metadata": {},
     "output_type": "execute_result"
    }
   ],
   "source": [
    "ar2"
   ]
  },
  {
   "cell_type": "markdown",
   "id": "bc6181be-c9a6-4b0d-be2b-5af1140d5813",
   "metadata": {},
   "source": [
    "***Addition***"
   ]
  },
  {
   "cell_type": "code",
   "execution_count": 274,
   "id": "053fade4-d071-40c0-8831-843f77a7482e",
   "metadata": {},
   "outputs": [
    {
     "data": {
      "text/plain": [
       "array([[7, 6, 4],\n",
       "       [9, 4, 6],\n",
       "       [8, 6, 8]])"
      ]
     },
     "execution_count": 274,
     "metadata": {},
     "output_type": "execute_result"
    }
   ],
   "source": [
    "ar1 + ar2"
   ]
  },
  {
   "cell_type": "markdown",
   "id": "b2ae7e6c-d2e9-47d5-8650-b16eaaa5dc73",
   "metadata": {},
   "source": [
    "***Subtraction***"
   ]
  },
  {
   "cell_type": "code",
   "execution_count": 276,
   "id": "113df50c-3955-4b2a-a02f-627bdd8b6a20",
   "metadata": {},
   "outputs": [
    {
     "data": {
      "text/plain": [
       "array([[-5,  0,  0],\n",
       "       [ 7,  0, -2],\n",
       "       [ 0,  4,  4]])"
      ]
     },
     "execution_count": 276,
     "metadata": {},
     "output_type": "execute_result"
    }
   ],
   "source": [
    "ar1 - ar2"
   ]
  },
  {
   "cell_type": "markdown",
   "id": "2a2cb4eb-ccce-4a6f-8b2e-bf1054de333c",
   "metadata": {},
   "source": [
    "***Multiplication***"
   ]
  },
  {
   "cell_type": "code",
   "execution_count": 278,
   "id": "4894da76-dfe3-41d9-8897-54f645d2f7fe",
   "metadata": {},
   "outputs": [
    {
     "data": {
      "text/plain": [
       "array([[ 6,  9,  4],\n",
       "       [ 8,  4,  8],\n",
       "       [16,  5, 12]])"
      ]
     },
     "execution_count": 278,
     "metadata": {},
     "output_type": "execute_result"
    }
   ],
   "source": [
    "ar1 * ar2"
   ]
  },
  {
   "cell_type": "markdown",
   "id": "7c757aa8-1438-44ad-af92-de3a25c94099",
   "metadata": {},
   "source": [
    "***Division***"
   ]
  },
  {
   "cell_type": "code",
   "execution_count": 280,
   "id": "9e308e96-8be8-44c2-9443-b2c38e8dffe0",
   "metadata": {},
   "outputs": [
    {
     "data": {
      "text/plain": [
       "array([[0.16666667, 1.        , 1.        ],\n",
       "       [8.        , 1.        , 0.5       ],\n",
       "       [1.        , 5.        , 3.        ]])"
      ]
     },
     "execution_count": 280,
     "metadata": {},
     "output_type": "execute_result"
    }
   ],
   "source": [
    "ar1 / ar2"
   ]
  },
  {
   "cell_type": "markdown",
   "id": "36354cde-2e24-4ffa-b1b7-db4d4d3caa1a",
   "metadata": {},
   "source": [
    "***Floor Division***"
   ]
  },
  {
   "cell_type": "code",
   "execution_count": 286,
   "id": "19881000-ad15-42bb-b9bc-3cdcd262c3dd",
   "metadata": {},
   "outputs": [
    {
     "data": {
      "text/plain": [
       "array([[0, 1, 1],\n",
       "       [8, 1, 0],\n",
       "       [1, 5, 3]])"
      ]
     },
     "execution_count": 286,
     "metadata": {},
     "output_type": "execute_result"
    }
   ],
   "source": [
    "ar1 // ar2"
   ]
  },
  {
   "cell_type": "markdown",
   "id": "628d197e-32b3-43f6-be5a-593a12d4160a",
   "metadata": {},
   "source": [
    "***Modulus***"
   ]
  },
  {
   "cell_type": "code",
   "execution_count": 289,
   "id": "5edfaf00-5833-4325-8179-b27232c3f5d2",
   "metadata": {},
   "outputs": [
    {
     "data": {
      "text/plain": [
       "array([[1, 0, 0],\n",
       "       [0, 0, 2],\n",
       "       [0, 0, 0]])"
      ]
     },
     "execution_count": 289,
     "metadata": {},
     "output_type": "execute_result"
    }
   ],
   "source": [
    "ar1 % ar2"
   ]
  },
  {
   "cell_type": "markdown",
   "id": "eccae946-aba2-4bf5-9366-18a689e82f90",
   "metadata": {},
   "source": [
    "***Exponentiation***"
   ]
  },
  {
   "cell_type": "code",
   "execution_count": 292,
   "id": "c0f07742-7aa7-4b9e-8ab2-50dd96a4c4f7",
   "metadata": {},
   "outputs": [
    {
     "data": {
      "text/plain": [
       "array([[  1,  27,   4],\n",
       "       [  8,   4,  16],\n",
       "       [256,   5,  36]])"
      ]
     },
     "execution_count": 292,
     "metadata": {},
     "output_type": "execute_result"
    }
   ],
   "source": [
    "ar1 ** ar2"
   ]
  },
  {
   "cell_type": "markdown",
   "id": "67885053-a28d-4e0f-a151-6128187f847a",
   "metadata": {},
   "source": [
    "***sqrt() : It is a function used to calculate the square root of each element in a Numpy array.***"
   ]
  },
  {
   "cell_type": "code",
   "execution_count": 79,
   "id": "bfb25a5d-3e1b-460d-ab5d-9bb20c629ec5",
   "metadata": {},
   "outputs": [
    {
     "data": {
      "text/plain": [
       "array([[1.        , 1.73205081, 1.41421356],\n",
       "       [2.82842712, 1.41421356, 0.        ],\n",
       "       [2.        , 2.23606798, 2.44948974]])"
      ]
     },
     "execution_count": 79,
     "metadata": {},
     "output_type": "execute_result"
    }
   ],
   "source": [
    "np.sqrt(ar1)"
   ]
  },
  {
   "cell_type": "code",
   "execution_count": 80,
   "id": "a16745eb-a3b3-4d7f-80d6-27026dc2823b",
   "metadata": {},
   "outputs": [
    {
     "data": {
      "text/plain": [
       "18"
      ]
     },
     "execution_count": 80,
     "metadata": {},
     "output_type": "execute_result"
    }
   ],
   "source": [
    "ar2.sum()"
   ]
  },
  {
   "cell_type": "markdown",
   "id": "5d67574c-779b-4103-80da-6f46b6b72a8c",
   "metadata": {},
   "source": [
    "***where() : It is a versetile function that returns the indices of elements in an array that meet a certain condition.***"
   ]
  },
  {
   "cell_type": "code",
   "execution_count": 81,
   "id": "5f6be31b-8656-4ddb-ae5c-51b1398a0f81",
   "metadata": {},
   "outputs": [],
   "source": [
    "k = np.array([[4,5,0], [6,0,3], [1,6,5]])"
   ]
  },
  {
   "cell_type": "code",
   "execution_count": 82,
   "id": "1fc2b3ba-674e-4224-bec1-9632ac05fc92",
   "metadata": {},
   "outputs": [
    {
     "data": {
      "text/plain": [
       "array([[4, 5, 0],\n",
       "       [6, 0, 3],\n",
       "       [1, 6, 5]])"
      ]
     },
     "execution_count": 82,
     "metadata": {},
     "output_type": "execute_result"
    }
   ],
   "source": [
    "k"
   ]
  },
  {
   "cell_type": "code",
   "execution_count": 83,
   "id": "b41e65a2-8154-4a3c-8e72-ef466496a7e0",
   "metadata": {},
   "outputs": [
    {
     "data": {
      "text/plain": [
       "(array([1, 2], dtype=int64), array([0, 1], dtype=int64))"
      ]
     },
     "execution_count": 83,
     "metadata": {},
     "output_type": "execute_result"
    }
   ],
   "source": [
    "np.where(k>5)"
   ]
  },
  {
   "cell_type": "markdown",
   "id": "9ab9cb82-a39f-4e32-9c5f-cd13d3db1a22",
   "metadata": {},
   "source": [
    "***count_nonzero() : It is a funtion that count the number of non-zero elements in an array.***"
   ]
  },
  {
   "cell_type": "code",
   "execution_count": 84,
   "id": "831182ae-10ee-43b1-a886-d920ceaee55b",
   "metadata": {},
   "outputs": [
    {
     "data": {
      "text/plain": [
       "7"
      ]
     },
     "execution_count": 84,
     "metadata": {},
     "output_type": "execute_result"
    }
   ],
   "source": [
    "np.count_nonzero(k)"
   ]
  }
 ],
 "metadata": {
  "kernelspec": {
   "display_name": "Python 3 (ipykernel)",
   "language": "python",
   "name": "python3"
  },
  "language_info": {
   "codemirror_mode": {
    "name": "ipython",
    "version": 3
   },
   "file_extension": ".py",
   "mimetype": "text/x-python",
   "name": "python",
   "nbconvert_exporter": "python",
   "pygments_lexer": "ipython3",
   "version": "3.12.4"
  }
 },
 "nbformat": 4,
 "nbformat_minor": 5
}
